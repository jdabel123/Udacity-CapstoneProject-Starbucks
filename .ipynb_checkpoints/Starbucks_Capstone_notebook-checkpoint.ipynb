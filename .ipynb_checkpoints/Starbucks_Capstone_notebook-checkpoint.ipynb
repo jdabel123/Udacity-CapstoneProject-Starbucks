{
 "cells": [
  {
   "cell_type": "markdown",
   "metadata": {},
   "source": [
    "# Starbucks Capstone Challenge\n",
    "\n",
    "### Introduction\n",
    "\n",
    "This data set contains simulated data that mimics customer behavior on the Starbucks rewards mobile app. Once every few days, Starbucks sends out an offer to users of the mobile app. An offer can be merely an advertisement for a drink or an actual offer such as a discount or BOGO (buy one get one free). Some users might not receive any offer during certain weeks. \n",
    "\n",
    "Not all users receive the same offer, and that is the challenge to solve with this data set.\n",
    "\n",
    "Your task is to combine transaction, demographic and offer data to determine which demographic groups respond best to which offer type. This data set is a simplified version of the real Starbucks app because the underlying simulator only has one product whereas Starbucks actually sells dozens of products.\n",
    "\n",
    "Every offer has a validity period before the offer expires. As an example, a BOGO offer might be valid for only 5 days. You'll see in the data set that informational offers have a validity period even though these ads are merely providing information about a product; for example, if an informational offer has 7 days of validity, you can assume the customer is feeling the influence of the offer for 7 days after receiving the advertisement.\n",
    "\n",
    "You'll be given transactional data showing user purchases made on the app including the timestamp of purchase and the amount of money spent on a purchase. This transactional data also has a record for each offer that a user receives as well as a record for when a user actually views the offer. There are also records for when a user completes an offer. \n",
    "\n",
    "Keep in mind as well that someone using the app might make a purchase through the app without having received an offer or seen an offer.\n",
    "\n",
    "### Example\n",
    "\n",
    "To give an example, a user could receive a discount offer buy 10 dollars get 2 off on Monday. The offer is valid for 10 days from receipt. If the customer accumulates at least 10 dollars in purchases during the validity period, the customer completes the offer.\n",
    "\n",
    "However, there are a few things to watch out for in this data set. Customers do not opt into the offers that they receive; in other words, a user can receive an offer, never actually view the offer, and still complete the offer. For example, a user might receive the \"buy 10 dollars get 2 dollars off offer\", but the user never opens the offer during the 10 day validity period. The customer spends 15 dollars during those ten days. There will be an offer completion record in the data set; however, the customer was not influenced by the offer because the customer never viewed the offer.\n",
    "\n",
    "### Cleaning\n",
    "\n",
    "This makes data cleaning especially important and tricky.\n",
    "\n",
    "You'll also want to take into account that some demographic groups will make purchases even if they don't receive an offer. From a business perspective, if a customer is going to make a 10 dollar purchase without an offer anyway, you wouldn't want to send a buy 10 dollars get 2 dollars off offer. You'll want to try to assess what a certain demographic group will buy when not receiving any offers.\n",
    "\n",
    "### Final Advice\n",
    "\n",
    "Because this is a capstone project, you are free to analyze the data any way you see fit. For example, you could build a machine learning model that predicts how much someone will spend based on demographics and offer type. Or you could build a model that predicts whether or not someone will respond to an offer. Or, you don't need to build a machine learning model at all. You could develop a set of heuristics that determine what offer you should send to each customer (i.e., 75 percent of women customers who were 35 years old responded to offer A vs 40 percent from the same demographic to offer B, so send offer A)."
   ]
  },
  {
   "cell_type": "markdown",
   "metadata": {},
   "source": [
    "# Data Sets\n",
    "\n",
    "The data is contained in three files:\n",
    "\n",
    "* portfolio.json - containing offer ids and meta data about each offer (duration, type, etc.)\n",
    "* profile.json - demographic data for each customer\n",
    "* transcript.json - records for transactions, offers received, offers viewed, and offers completed\n",
    "\n",
    "Here is the schema and explanation of each variable in the files:\n",
    "\n",
    "**portfolio.json**\n",
    "* id (string) - offer id\n",
    "* offer_type (string) - type of offer ie BOGO, discount, informational\n",
    "* difficulty (int) - minimum required spend to complete an offer\n",
    "* reward (int) - reward given for completing an offer\n",
    "* duration (int) - time for offer to be open, in days\n",
    "* channels (list of strings)\n",
    "\n",
    "**profile.json**\n",
    "* age (int) - age of the customer \n",
    "* became_member_on (int) - date when customer created an app account\n",
    "* gender (str) - gender of the customer (note some entries contain 'O' for other rather than M or F)\n",
    "* id (str) - customer id\n",
    "* income (float) - customer's income\n",
    "\n",
    "**transcript.json**\n",
    "* event (str) - record description (ie transaction, offer received, offer viewed, etc.)\n",
    "* person (str) - customer id\n",
    "* time (int) - time in hours since start of test. The data begins at time t=0\n",
    "* value - (dict of strings) - either an offer id or transaction amount depending on the record\n",
    "\n",
    "**Note:** If you are using the workspace, you will need to go to the terminal and run the command `conda update pandas` before reading in the files. This is because the version of pandas in the workspace cannot read in the transcript.json file correctly, but the newest version of pandas can. You can access the termnal from the orange icon in the top left of this notebook.  \n",
    "\n",
    "You can see how to access the terminal and how the install works using the two images below.  First you need to access the terminal:\n",
    "\n",
    "<img src=\"pic1.png\"/>\n",
    "\n",
    "Then you will want to run the above command:\n",
    "\n",
    "<img src=\"pic2.png\"/>\n",
    "\n",
    "Finally, when you enter back into the notebook (use the jupyter icon again), you should be able to run the below cell without any errors."
   ]
  },
  {
   "cell_type": "code",
   "execution_count": 117,
   "metadata": {},
   "outputs": [],
   "source": [
    "import pandas as pd\n",
    "import numpy as np\n",
    "from datetime import datetime\n",
    "import math\n",
    "import seaborn as sns\n",
    "import json\n",
    "from matplotlib import pyplot as plt\n",
    "\n",
    "\n",
    "from sklearn.model_selection import train_test_split\n",
    "from sklearn.ensemble import RandomForestClassifier, AdaBoostClassifier\n",
    "from sklearn import preprocessing\n",
    "from sklearn.preprocessing import StandardScaler, normalize, MinMaxScaler\n",
    "from sklearn.discriminant_analysis import LinearDiscriminantAnalysis\n",
    "from sklearn.metrics import confusion_matrix,accuracy_score, classification_report,f1_score\n",
    "from sklearn.metrics import roc_auc_score,roc_curve, auc\n",
    "from sklearn.utils import resample\n",
    "from sklearn.svm import SVC\n",
    "from sklearn.grid_search import GridSearchCV\n",
    "from sklearn.linear_model import LogisticRegression\n",
    "\n",
    "\n",
    "% matplotlib inline\n",
    "\n",
    "# read in the json files\n",
    "portfolio = pd.read_json('data/portfolio.json', orient='records', lines=True)\n",
    "profile = pd.read_json('data/profile.json', orient='records', lines=True)\n",
    "transcript = pd.read_json('data/transcript.json', orient='records', lines=True)"
   ]
  },
  {
   "cell_type": "code",
   "execution_count": 2,
   "metadata": {},
   "outputs": [
    {
     "data": {
      "text/html": [
       "<div>\n",
       "<style scoped>\n",
       "    .dataframe tbody tr th:only-of-type {\n",
       "        vertical-align: middle;\n",
       "    }\n",
       "\n",
       "    .dataframe tbody tr th {\n",
       "        vertical-align: top;\n",
       "    }\n",
       "\n",
       "    .dataframe thead th {\n",
       "        text-align: right;\n",
       "    }\n",
       "</style>\n",
       "<table border=\"1\" class=\"dataframe\">\n",
       "  <thead>\n",
       "    <tr style=\"text-align: right;\">\n",
       "      <th></th>\n",
       "      <th>age</th>\n",
       "      <th>became_member_on</th>\n",
       "      <th>gender</th>\n",
       "      <th>id</th>\n",
       "      <th>income</th>\n",
       "    </tr>\n",
       "  </thead>\n",
       "  <tbody>\n",
       "    <tr>\n",
       "      <th>0</th>\n",
       "      <td>118</td>\n",
       "      <td>20170212</td>\n",
       "      <td>None</td>\n",
       "      <td>68be06ca386d4c31939f3a4f0e3dd783</td>\n",
       "      <td>NaN</td>\n",
       "    </tr>\n",
       "    <tr>\n",
       "      <th>1</th>\n",
       "      <td>55</td>\n",
       "      <td>20170715</td>\n",
       "      <td>F</td>\n",
       "      <td>0610b486422d4921ae7d2bf64640c50b</td>\n",
       "      <td>112000.0</td>\n",
       "    </tr>\n",
       "    <tr>\n",
       "      <th>2</th>\n",
       "      <td>118</td>\n",
       "      <td>20180712</td>\n",
       "      <td>None</td>\n",
       "      <td>38fe809add3b4fcf9315a9694bb96ff5</td>\n",
       "      <td>NaN</td>\n",
       "    </tr>\n",
       "    <tr>\n",
       "      <th>3</th>\n",
       "      <td>75</td>\n",
       "      <td>20170509</td>\n",
       "      <td>F</td>\n",
       "      <td>78afa995795e4d85b5d9ceeca43f5fef</td>\n",
       "      <td>100000.0</td>\n",
       "    </tr>\n",
       "    <tr>\n",
       "      <th>4</th>\n",
       "      <td>118</td>\n",
       "      <td>20170804</td>\n",
       "      <td>None</td>\n",
       "      <td>a03223e636434f42ac4c3df47e8bac43</td>\n",
       "      <td>NaN</td>\n",
       "    </tr>\n",
       "  </tbody>\n",
       "</table>\n",
       "</div>"
      ],
      "text/plain": [
       "   age  became_member_on gender                                id    income\n",
       "0  118          20170212   None  68be06ca386d4c31939f3a4f0e3dd783       NaN\n",
       "1   55          20170715      F  0610b486422d4921ae7d2bf64640c50b  112000.0\n",
       "2  118          20180712   None  38fe809add3b4fcf9315a9694bb96ff5       NaN\n",
       "3   75          20170509      F  78afa995795e4d85b5d9ceeca43f5fef  100000.0\n",
       "4  118          20170804   None  a03223e636434f42ac4c3df47e8bac43       NaN"
      ]
     },
     "execution_count": 2,
     "metadata": {},
     "output_type": "execute_result"
    }
   ],
   "source": [
    "#View profile\n",
    "profile.head()"
   ]
  },
  {
   "cell_type": "code",
   "execution_count": 3,
   "metadata": {},
   "outputs": [
    {
     "data": {
      "text/plain": [
       "age                   int64\n",
       "became_member_on      int64\n",
       "gender               object\n",
       "id                   object\n",
       "income              float64\n",
       "dtype: object"
      ]
     },
     "execution_count": 3,
     "metadata": {},
     "output_type": "execute_result"
    }
   ],
   "source": [
    "profile.dtypes"
   ]
  },
  {
   "cell_type": "code",
   "execution_count": 4,
   "metadata": {},
   "outputs": [
    {
     "data": {
      "text/plain": [
       "M    8484\n",
       "F    6129\n",
       "O     212\n",
       "Name: gender, dtype: int64"
      ]
     },
     "execution_count": 4,
     "metadata": {},
     "output_type": "execute_result"
    }
   ],
   "source": [
    "profile['gender'].value_counts()"
   ]
  },
  {
   "cell_type": "code",
   "execution_count": 5,
   "metadata": {},
   "outputs": [
    {
     "data": {
      "text/html": [
       "<div>\n",
       "<style scoped>\n",
       "    .dataframe tbody tr th:only-of-type {\n",
       "        vertical-align: middle;\n",
       "    }\n",
       "\n",
       "    .dataframe tbody tr th {\n",
       "        vertical-align: top;\n",
       "    }\n",
       "\n",
       "    .dataframe thead th {\n",
       "        text-align: right;\n",
       "    }\n",
       "</style>\n",
       "<table border=\"1\" class=\"dataframe\">\n",
       "  <thead>\n",
       "    <tr style=\"text-align: right;\">\n",
       "      <th></th>\n",
       "      <th>age</th>\n",
       "      <th>became_member_on</th>\n",
       "      <th>income</th>\n",
       "    </tr>\n",
       "  </thead>\n",
       "  <tbody>\n",
       "    <tr>\n",
       "      <th>count</th>\n",
       "      <td>17000.000000</td>\n",
       "      <td>1.700000e+04</td>\n",
       "      <td>14825.000000</td>\n",
       "    </tr>\n",
       "    <tr>\n",
       "      <th>mean</th>\n",
       "      <td>62.531412</td>\n",
       "      <td>2.016703e+07</td>\n",
       "      <td>65404.991568</td>\n",
       "    </tr>\n",
       "    <tr>\n",
       "      <th>std</th>\n",
       "      <td>26.738580</td>\n",
       "      <td>1.167750e+04</td>\n",
       "      <td>21598.299410</td>\n",
       "    </tr>\n",
       "    <tr>\n",
       "      <th>min</th>\n",
       "      <td>18.000000</td>\n",
       "      <td>2.013073e+07</td>\n",
       "      <td>30000.000000</td>\n",
       "    </tr>\n",
       "    <tr>\n",
       "      <th>25%</th>\n",
       "      <td>45.000000</td>\n",
       "      <td>2.016053e+07</td>\n",
       "      <td>49000.000000</td>\n",
       "    </tr>\n",
       "    <tr>\n",
       "      <th>50%</th>\n",
       "      <td>58.000000</td>\n",
       "      <td>2.017080e+07</td>\n",
       "      <td>64000.000000</td>\n",
       "    </tr>\n",
       "    <tr>\n",
       "      <th>75%</th>\n",
       "      <td>73.000000</td>\n",
       "      <td>2.017123e+07</td>\n",
       "      <td>80000.000000</td>\n",
       "    </tr>\n",
       "    <tr>\n",
       "      <th>max</th>\n",
       "      <td>118.000000</td>\n",
       "      <td>2.018073e+07</td>\n",
       "      <td>120000.000000</td>\n",
       "    </tr>\n",
       "  </tbody>\n",
       "</table>\n",
       "</div>"
      ],
      "text/plain": [
       "                age  became_member_on         income\n",
       "count  17000.000000      1.700000e+04   14825.000000\n",
       "mean      62.531412      2.016703e+07   65404.991568\n",
       "std       26.738580      1.167750e+04   21598.299410\n",
       "min       18.000000      2.013073e+07   30000.000000\n",
       "25%       45.000000      2.016053e+07   49000.000000\n",
       "50%       58.000000      2.017080e+07   64000.000000\n",
       "75%       73.000000      2.017123e+07   80000.000000\n",
       "max      118.000000      2.018073e+07  120000.000000"
      ]
     },
     "execution_count": 5,
     "metadata": {},
     "output_type": "execute_result"
    }
   ],
   "source": [
    "profile.describe()"
   ]
  },
  {
   "cell_type": "code",
   "execution_count": 6,
   "metadata": {},
   "outputs": [
    {
     "data": {
      "image/png": "[encoded data removed]",
      "text/plain": [
       "<matplotlib.figure.Figure at 0x7fb3d2285a58>"
      ]
     },
     "metadata": {
      "needs_background": "light"
     },
     "output_type": "display_data"
    }
   ],
   "source": [
    "sns.distplot(profile['age'],hist=True)\n",
    "plt.title(\"Distribution of Age in Portfolio\")\n",
    "plt.xlabel(\"Age\")\n",
    "plt.ylabel(\"Count\");"
   ]
  },
  {
   "cell_type": "markdown",
   "metadata": {},
   "source": [
    "Here we can see that for age there seems to be a large number of outliers with an age of 118. "
   ]
  },
  {
   "cell_type": "markdown",
   "metadata": {},
   "source": [
    "## Exploratory Analysis"
   ]
  },
  {
   "cell_type": "code",
   "execution_count": 7,
   "metadata": {},
   "outputs": [
    {
     "data": {
      "image/png": "[encoded data removed]",
      "text/plain": [
       "<matplotlib.figure.Figure at 0x7fb3d223cd30>"
      ]
     },
     "metadata": {
      "needs_background": "light"
     },
     "output_type": "display_data"
    }
   ],
   "source": [
    "sns.countplot(x='gender',data=profile);"
   ]
  },
  {
   "cell_type": "code",
   "execution_count": 8,
   "metadata": {},
   "outputs": [
    {
     "data": {
      "image/png": "[encoded data removed]",
      "text/plain": [
       "<matplotlib.figure.Figure at 0x7fb3d21dd2e8>"
      ]
     },
     "metadata": {
      "needs_background": "light"
     },
     "output_type": "display_data"
    }
   ],
   "source": [
    "sns.distplot(profile[profile['gender']=='M']['age'],hist=False,color=\"b\", kde_kws={\"shade\": True});\n",
    "sns.distplot(profile[profile['gender']=='F']['age'],hist=False,color=\"r\", kde_kws={\"shade\": True});\n",
    "plt.title('Age distribution by Gender')\n",
    "plt.gca().get_yaxis().set_visible(False)\n",
    "plt.legend(['Male','Female'],frameon=False);\n"
   ]
  },
  {
   "cell_type": "code",
   "execution_count": 9,
   "metadata": {},
   "outputs": [
    {
     "data": {
      "image/png": "[encoded data removed]",
      "text/plain": [
       "<matplotlib.figure.Figure at 0x7fb3d21d4e10>"
      ]
     },
     "metadata": {
      "needs_background": "light"
     },
     "output_type": "display_data"
    }
   ],
   "source": [
    "sns.distplot(profile[profile['gender']=='M']['income'],hist=False,color=\"b\", kde_kws={\"shade\": True});\n",
    "sns.distplot(profile[profile['gender']=='F']['income'],hist=False,color=\"r\", kde_kws={\"shade\": True});\n",
    "plt.title('Income distribution by Gender')\n",
    "plt.gca().get_yaxis().set_visible(False)\n",
    "plt.legend(['Male','Female'],frameon=False);\n"
   ]
  },
  {
   "cell_type": "markdown",
   "metadata": {},
   "source": [
    "## Data Processing"
   ]
  },
  {
   "cell_type": "code",
   "execution_count": 11,
   "metadata": {},
   "outputs": [
    {
     "data": {
      "text/html": [
       "<div>\n",
       "<style scoped>\n",
       "    .dataframe tbody tr th:only-of-type {\n",
       "        vertical-align: middle;\n",
       "    }\n",
       "\n",
       "    .dataframe tbody tr th {\n",
       "        vertical-align: top;\n",
       "    }\n",
       "\n",
       "    .dataframe thead th {\n",
       "        text-align: right;\n",
       "    }\n",
       "</style>\n",
       "<table border=\"1\" class=\"dataframe\">\n",
       "  <thead>\n",
       "    <tr style=\"text-align: right;\">\n",
       "      <th></th>\n",
       "      <th>age</th>\n",
       "      <th>became_member_on</th>\n",
       "      <th>gender</th>\n",
       "      <th>customer_id</th>\n",
       "      <th>income</th>\n",
       "      <th>gender-F</th>\n",
       "      <th>gender-M</th>\n",
       "      <th>gender-O</th>\n",
       "    </tr>\n",
       "  </thead>\n",
       "  <tbody>\n",
       "    <tr>\n",
       "      <th>0</th>\n",
       "      <td>NaN</td>\n",
       "      <td>1369.0</td>\n",
       "      <td>None</td>\n",
       "      <td>68be06ca386d4c31939f3a4f0e3dd783</td>\n",
       "      <td>NaN</td>\n",
       "      <td>0</td>\n",
       "      <td>0</td>\n",
       "      <td>0</td>\n",
       "    </tr>\n",
       "    <tr>\n",
       "      <th>1</th>\n",
       "      <td>55.0</td>\n",
       "      <td>1216.0</td>\n",
       "      <td>F</td>\n",
       "      <td>0610b486422d4921ae7d2bf64640c50b</td>\n",
       "      <td>112000.0</td>\n",
       "      <td>1</td>\n",
       "      <td>0</td>\n",
       "      <td>0</td>\n",
       "    </tr>\n",
       "    <tr>\n",
       "      <th>2</th>\n",
       "      <td>NaN</td>\n",
       "      <td>854.0</td>\n",
       "      <td>None</td>\n",
       "      <td>38fe809add3b4fcf9315a9694bb96ff5</td>\n",
       "      <td>NaN</td>\n",
       "      <td>0</td>\n",
       "      <td>0</td>\n",
       "      <td>0</td>\n",
       "    </tr>\n",
       "    <tr>\n",
       "      <th>3</th>\n",
       "      <td>75.0</td>\n",
       "      <td>1283.0</td>\n",
       "      <td>F</td>\n",
       "      <td>78afa995795e4d85b5d9ceeca43f5fef</td>\n",
       "      <td>100000.0</td>\n",
       "      <td>1</td>\n",
       "      <td>0</td>\n",
       "      <td>0</td>\n",
       "    </tr>\n",
       "    <tr>\n",
       "      <th>4</th>\n",
       "      <td>NaN</td>\n",
       "      <td>1196.0</td>\n",
       "      <td>None</td>\n",
       "      <td>a03223e636434f42ac4c3df47e8bac43</td>\n",
       "      <td>NaN</td>\n",
       "      <td>0</td>\n",
       "      <td>0</td>\n",
       "      <td>0</td>\n",
       "    </tr>\n",
       "  </tbody>\n",
       "</table>\n",
       "</div>"
      ],
      "text/plain": [
       "    age  became_member_on gender                       customer_id    income  \\\n",
       "0   NaN            1369.0   None  68be06ca386d4c31939f3a4f0e3dd783       NaN   \n",
       "1  55.0            1216.0      F  0610b486422d4921ae7d2bf64640c50b  112000.0   \n",
       "2   NaN             854.0   None  38fe809add3b4fcf9315a9694bb96ff5       NaN   \n",
       "3  75.0            1283.0      F  78afa995795e4d85b5d9ceeca43f5fef  100000.0   \n",
       "4   NaN            1196.0   None  a03223e636434f42ac4c3df47e8bac43       NaN   \n",
       "\n",
       "   gender-F  gender-M  gender-O  \n",
       "0         0         0         0  \n",
       "1         1         0         0  \n",
       "2         0         0         0  \n",
       "3         1         0         0  \n",
       "4         0         0         0  "
      ]
     },
     "execution_count": 11,
     "metadata": {},
     "output_type": "execute_result"
    }
   ],
   "source": [
    "def clean_profile(profile):\n",
    "    \n",
    "    '''\n",
    "    Function to clean profile dataframe.\n",
    "    \n",
    "    INPUT - Profile dataframe\n",
    "    \n",
    "    OUTPUT - Return cleaned version of profile dataframe\n",
    "    \n",
    "    '''\n",
    "    \n",
    "    #Convert became_member_on to datetime\n",
    "    profile['became_member_on'] = pd.to_datetime(profile['became_member_on'],format='%Y%m%d')\n",
    "\n",
    "    \n",
    "    #Convert users with age 118 to np.nan\n",
    "    profile['age'] = profile['age'].apply(lambda x: np.nan if x ==118 else x)\n",
    "    \n",
    "    #Create dummy columns for gender\n",
    "    \n",
    "    genders = pd.get_dummies(profile['gender'],prefix = \"gender\", prefix_sep = \"-\")\n",
    "    \n",
    "    profile = pd.concat([profile,genders],axis=1)\n",
    "    \n",
    "    #Change id column name to offer id\n",
    "    \n",
    "    profile.rename(columns={'id':'customer_id'},inplace=True)\n",
    "    \n",
    "    #Extract the number of days a user has been a member of the rewards app.\n",
    "    today = pd.to_datetime(datetime.today().strftime('%Y%m%d'))\n",
    "    \n",
    "    \n",
    "    profile['became_member_on'] = (today - profile['became_member_on']) / np.timedelta64(1,'D')\n",
    "    \n",
    "    \n",
    "    \n",
    "    return profile\n",
    "    \n",
    "    \n",
    "\n",
    "profile = clean_profile(profile)\n",
    "profile.head()"
   ]
  },
  {
   "cell_type": "code",
   "execution_count": 12,
   "metadata": {},
   "outputs": [
    {
     "data": {
      "image/png": "[encoded data removed]",
      "text/plain": [
       "<matplotlib.figure.Figure at 0x7fb3d215e668>"
      ]
     },
     "metadata": {
      "needs_background": "light"
     },
     "output_type": "display_data"
    }
   ],
   "source": [
    "plt.hist(profile['became_member_on']);\n",
    "plt.title('Distribution of The Number of Days a User Has Been a Member');\n"
   ]
  },
  {
   "cell_type": "code",
   "execution_count": 13,
   "metadata": {},
   "outputs": [
    {
     "data": {
      "text/plain": [
       "(65404.991568296799, 64000.0)"
      ]
     },
     "execution_count": 13,
     "metadata": {},
     "output_type": "execute_result"
    }
   ],
   "source": [
    "#Print mean and median for income\n",
    "profile['income'].mean(), profile['income'].median()\n"
   ]
  },
  {
   "cell_type": "code",
   "execution_count": 14,
   "metadata": {},
   "outputs": [
    {
     "data": {
      "text/html": [
       "<div>\n",
       "<style scoped>\n",
       "    .dataframe tbody tr th:only-of-type {\n",
       "        vertical-align: middle;\n",
       "    }\n",
       "\n",
       "    .dataframe tbody tr th {\n",
       "        vertical-align: top;\n",
       "    }\n",
       "\n",
       "    .dataframe thead th {\n",
       "        text-align: right;\n",
       "    }\n",
       "</style>\n",
       "<table border=\"1\" class=\"dataframe\">\n",
       "  <thead>\n",
       "    <tr style=\"text-align: right;\">\n",
       "      <th></th>\n",
       "      <th>channels</th>\n",
       "      <th>difficulty</th>\n",
       "      <th>duration</th>\n",
       "      <th>id</th>\n",
       "      <th>offer_type</th>\n",
       "      <th>reward</th>\n",
       "    </tr>\n",
       "  </thead>\n",
       "  <tbody>\n",
       "    <tr>\n",
       "      <th>0</th>\n",
       "      <td>[email, mobile, social]</td>\n",
       "      <td>10</td>\n",
       "      <td>7</td>\n",
       "      <td>ae264e3637204a6fb9bb56bc8210ddfd</td>\n",
       "      <td>bogo</td>\n",
       "      <td>10</td>\n",
       "    </tr>\n",
       "    <tr>\n",
       "      <th>1</th>\n",
       "      <td>[web, email, mobile, social]</td>\n",
       "      <td>10</td>\n",
       "      <td>5</td>\n",
       "      <td>4d5c57ea9a6940dd891ad53e9dbe8da0</td>\n",
       "      <td>bogo</td>\n",
       "      <td>10</td>\n",
       "    </tr>\n",
       "    <tr>\n",
       "      <th>2</th>\n",
       "      <td>[web, email, mobile]</td>\n",
       "      <td>0</td>\n",
       "      <td>4</td>\n",
       "      <td>3f207df678b143eea3cee63160fa8bed</td>\n",
       "      <td>informational</td>\n",
       "      <td>0</td>\n",
       "    </tr>\n",
       "    <tr>\n",
       "      <th>3</th>\n",
       "      <td>[web, email, mobile]</td>\n",
       "      <td>5</td>\n",
       "      <td>7</td>\n",
       "      <td>9b98b8c7a33c4b65b9aebfe6a799e6d9</td>\n",
       "      <td>bogo</td>\n",
       "      <td>5</td>\n",
       "    </tr>\n",
       "    <tr>\n",
       "      <th>4</th>\n",
       "      <td>[web, email]</td>\n",
       "      <td>20</td>\n",
       "      <td>10</td>\n",
       "      <td>0b1e1539f2cc45b7b9fa7c272da2e1d7</td>\n",
       "      <td>discount</td>\n",
       "      <td>5</td>\n",
       "    </tr>\n",
       "  </tbody>\n",
       "</table>\n",
       "</div>"
      ],
      "text/plain": [
       "                       channels  difficulty  duration  \\\n",
       "0       [email, mobile, social]          10         7   \n",
       "1  [web, email, mobile, social]          10         5   \n",
       "2          [web, email, mobile]           0         4   \n",
       "3          [web, email, mobile]           5         7   \n",
       "4                  [web, email]          20        10   \n",
       "\n",
       "                                 id     offer_type  reward  \n",
       "0  ae264e3637204a6fb9bb56bc8210ddfd           bogo      10  \n",
       "1  4d5c57ea9a6940dd891ad53e9dbe8da0           bogo      10  \n",
       "2  3f207df678b143eea3cee63160fa8bed  informational       0  \n",
       "3  9b98b8c7a33c4b65b9aebfe6a799e6d9           bogo       5  \n",
       "4  0b1e1539f2cc45b7b9fa7c272da2e1d7       discount       5  "
      ]
     },
     "execution_count": 14,
     "metadata": {},
     "output_type": "execute_result"
    }
   ],
   "source": [
    "#Explore portfolio\n",
    "portfolio.head()\n"
   ]
  },
  {
   "cell_type": "code",
   "execution_count": 15,
   "metadata": {},
   "outputs": [],
   "source": [
    "def clean_portfolio(portfolio):\n",
    "    \n",
    "    '''\n",
    "    Function to clean the portoflio dataset. Encode the categorical variables.\n",
    "    \n",
    "    Input - Portfolio dataframe\n",
    "    \n",
    "    Output - Portfolio dataframe with categorical variables handled\n",
    "    '''\n",
    "    \n",
    "    #Apply one hot encodings to channels column\n",
    "    \n",
    "    #Email\n",
    "    portfolio['email'] = portfolio['channels'].apply(lambda x: 1 if 'email' in x else 0)\n",
    "    #Mobile\n",
    "    portfolio['mobile'] = portfolio['channels'].apply(lambda x: 1 if 'mobile' in x else 0)\n",
    "    #Social\n",
    "    portfolio['social'] = portfolio['channels'].apply(lambda x: 1 if 'social' in x else 0)\n",
    "    #Web\n",
    "    portfolio['web'] = portfolio['channels'].apply(lambda x: 1 if 'web' in x else 0)\n",
    "    \n",
    "    #Create dummy columns for offer_type\n",
    "    offer_types = pd.get_dummies(portfolio['offer_type'], prefix ='offer_type', prefix_sep='-')\n",
    "    \n",
    "    portfolio = pd.concat([portfolio.drop(['offer_type','channels'],axis=1),offer_types],axis=1)\n",
    "      \n",
    "    portfolio.rename(columns={'id':'offer_id'},inplace=True)\n",
    "    \n",
    "    return portfolio\n",
    "portfolio = clean_portfolio(portfolio)"
   ]
  },
  {
   "cell_type": "code",
   "execution_count": 16,
   "metadata": {},
   "outputs": [
    {
     "data": {
      "text/html": [
       "<div>\n",
       "<style scoped>\n",
       "    .dataframe tbody tr th:only-of-type {\n",
       "        vertical-align: middle;\n",
       "    }\n",
       "\n",
       "    .dataframe tbody tr th {\n",
       "        vertical-align: top;\n",
       "    }\n",
       "\n",
       "    .dataframe thead th {\n",
       "        text-align: right;\n",
       "    }\n",
       "</style>\n",
       "<table border=\"1\" class=\"dataframe\">\n",
       "  <thead>\n",
       "    <tr style=\"text-align: right;\">\n",
       "      <th></th>\n",
       "      <th>difficulty</th>\n",
       "      <th>duration</th>\n",
       "      <th>offer_id</th>\n",
       "      <th>reward</th>\n",
       "      <th>email</th>\n",
       "      <th>mobile</th>\n",
       "      <th>social</th>\n",
       "      <th>web</th>\n",
       "      <th>offer_type-bogo</th>\n",
       "      <th>offer_type-discount</th>\n",
       "      <th>offer_type-informational</th>\n",
       "    </tr>\n",
       "  </thead>\n",
       "  <tbody>\n",
       "    <tr>\n",
       "      <th>0</th>\n",
       "      <td>10</td>\n",
       "      <td>7</td>\n",
       "      <td>ae264e3637204a6fb9bb56bc8210ddfd</td>\n",
       "      <td>10</td>\n",
       "      <td>1</td>\n",
       "      <td>1</td>\n",
       "      <td>1</td>\n",
       "      <td>0</td>\n",
       "      <td>1</td>\n",
       "      <td>0</td>\n",
       "      <td>0</td>\n",
       "    </tr>\n",
       "    <tr>\n",
       "      <th>1</th>\n",
       "      <td>10</td>\n",
       "      <td>5</td>\n",
       "      <td>4d5c57ea9a6940dd891ad53e9dbe8da0</td>\n",
       "      <td>10</td>\n",
       "      <td>1</td>\n",
       "      <td>1</td>\n",
       "      <td>1</td>\n",
       "      <td>1</td>\n",
       "      <td>1</td>\n",
       "      <td>0</td>\n",
       "      <td>0</td>\n",
       "    </tr>\n",
       "    <tr>\n",
       "      <th>2</th>\n",
       "      <td>0</td>\n",
       "      <td>4</td>\n",
       "      <td>3f207df678b143eea3cee63160fa8bed</td>\n",
       "      <td>0</td>\n",
       "      <td>1</td>\n",
       "      <td>1</td>\n",
       "      <td>0</td>\n",
       "      <td>1</td>\n",
       "      <td>0</td>\n",
       "      <td>0</td>\n",
       "      <td>1</td>\n",
       "    </tr>\n",
       "    <tr>\n",
       "      <th>3</th>\n",
       "      <td>5</td>\n",
       "      <td>7</td>\n",
       "      <td>9b98b8c7a33c4b65b9aebfe6a799e6d9</td>\n",
       "      <td>5</td>\n",
       "      <td>1</td>\n",
       "      <td>1</td>\n",
       "      <td>0</td>\n",
       "      <td>1</td>\n",
       "      <td>1</td>\n",
       "      <td>0</td>\n",
       "      <td>0</td>\n",
       "    </tr>\n",
       "    <tr>\n",
       "      <th>4</th>\n",
       "      <td>20</td>\n",
       "      <td>10</td>\n",
       "      <td>0b1e1539f2cc45b7b9fa7c272da2e1d7</td>\n",
       "      <td>5</td>\n",
       "      <td>1</td>\n",
       "      <td>0</td>\n",
       "      <td>0</td>\n",
       "      <td>1</td>\n",
       "      <td>0</td>\n",
       "      <td>1</td>\n",
       "      <td>0</td>\n",
       "    </tr>\n",
       "  </tbody>\n",
       "</table>\n",
       "</div>"
      ],
      "text/plain": [
       "   difficulty  duration                          offer_id  reward  email  \\\n",
       "0          10         7  ae264e3637204a6fb9bb56bc8210ddfd      10      1   \n",
       "1          10         5  4d5c57ea9a6940dd891ad53e9dbe8da0      10      1   \n",
       "2           0         4  3f207df678b143eea3cee63160fa8bed       0      1   \n",
       "3           5         7  9b98b8c7a33c4b65b9aebfe6a799e6d9       5      1   \n",
       "4          20        10  0b1e1539f2cc45b7b9fa7c272da2e1d7       5      1   \n",
       "\n",
       "   mobile  social  web  offer_type-bogo  offer_type-discount  \\\n",
       "0       1       1    0                1                    0   \n",
       "1       1       1    1                1                    0   \n",
       "2       1       0    1                0                    0   \n",
       "3       1       0    1                1                    0   \n",
       "4       0       0    1                0                    1   \n",
       "\n",
       "   offer_type-informational  \n",
       "0                         0  \n",
       "1                         0  \n",
       "2                         1  \n",
       "3                         0  \n",
       "4                         0  "
      ]
     },
     "execution_count": 16,
     "metadata": {},
     "output_type": "execute_result"
    }
   ],
   "source": [
    "portfolio.head()"
   ]
  },
  {
   "cell_type": "code",
   "execution_count": 17,
   "metadata": {},
   "outputs": [
    {
     "data": {
      "text/html": [
       "<div>\n",
       "<style scoped>\n",
       "    .dataframe tbody tr th:only-of-type {\n",
       "        vertical-align: middle;\n",
       "    }\n",
       "\n",
       "    .dataframe tbody tr th {\n",
       "        vertical-align: top;\n",
       "    }\n",
       "\n",
       "    .dataframe thead th {\n",
       "        text-align: right;\n",
       "    }\n",
       "</style>\n",
       "<table border=\"1\" class=\"dataframe\">\n",
       "  <thead>\n",
       "    <tr style=\"text-align: right;\">\n",
       "      <th></th>\n",
       "      <th>event</th>\n",
       "      <th>person</th>\n",
       "      <th>time</th>\n",
       "      <th>value</th>\n",
       "    </tr>\n",
       "  </thead>\n",
       "  <tbody>\n",
       "    <tr>\n",
       "      <th>0</th>\n",
       "      <td>offer received</td>\n",
       "      <td>78afa995795e4d85b5d9ceeca43f5fef</td>\n",
       "      <td>0</td>\n",
       "      <td>{'offer id': '9b98b8c7a33c4b65b9aebfe6a799e6d9'}</td>\n",
       "    </tr>\n",
       "    <tr>\n",
       "      <th>1</th>\n",
       "      <td>offer received</td>\n",
       "      <td>a03223e636434f42ac4c3df47e8bac43</td>\n",
       "      <td>0</td>\n",
       "      <td>{'offer id': '0b1e1539f2cc45b7b9fa7c272da2e1d7'}</td>\n",
       "    </tr>\n",
       "    <tr>\n",
       "      <th>2</th>\n",
       "      <td>offer received</td>\n",
       "      <td>e2127556f4f64592b11af22de27a7932</td>\n",
       "      <td>0</td>\n",
       "      <td>{'offer id': '2906b810c7d4411798c6938adc9daaa5'}</td>\n",
       "    </tr>\n",
       "    <tr>\n",
       "      <th>3</th>\n",
       "      <td>offer received</td>\n",
       "      <td>8ec6ce2a7e7949b1bf142def7d0e0586</td>\n",
       "      <td>0</td>\n",
       "      <td>{'offer id': 'fafdcd668e3743c1bb461111dcafc2a4'}</td>\n",
       "    </tr>\n",
       "    <tr>\n",
       "      <th>4</th>\n",
       "      <td>offer received</td>\n",
       "      <td>68617ca6246f4fbc85e91a2a49552598</td>\n",
       "      <td>0</td>\n",
       "      <td>{'offer id': '4d5c57ea9a6940dd891ad53e9dbe8da0'}</td>\n",
       "    </tr>\n",
       "  </tbody>\n",
       "</table>\n",
       "</div>"
      ],
      "text/plain": [
       "            event                            person  time  \\\n",
       "0  offer received  78afa995795e4d85b5d9ceeca43f5fef     0   \n",
       "1  offer received  a03223e636434f42ac4c3df47e8bac43     0   \n",
       "2  offer received  e2127556f4f64592b11af22de27a7932     0   \n",
       "3  offer received  8ec6ce2a7e7949b1bf142def7d0e0586     0   \n",
       "4  offer received  68617ca6246f4fbc85e91a2a49552598     0   \n",
       "\n",
       "                                              value  \n",
       "0  {'offer id': '9b98b8c7a33c4b65b9aebfe6a799e6d9'}  \n",
       "1  {'offer id': '0b1e1539f2cc45b7b9fa7c272da2e1d7'}  \n",
       "2  {'offer id': '2906b810c7d4411798c6938adc9daaa5'}  \n",
       "3  {'offer id': 'fafdcd668e3743c1bb461111dcafc2a4'}  \n",
       "4  {'offer id': '4d5c57ea9a6940dd891ad53e9dbe8da0'}  "
      ]
     },
     "execution_count": 17,
     "metadata": {},
     "output_type": "execute_result"
    }
   ],
   "source": [
    "#Explore transcript\n",
    "\n",
    "transcript.head()"
   ]
  },
  {
   "cell_type": "code",
   "execution_count": 18,
   "metadata": {},
   "outputs": [
    {
     "data": {
      "text/html": [
       "<div>\n",
       "<style scoped>\n",
       "    .dataframe tbody tr th:only-of-type {\n",
       "        vertical-align: middle;\n",
       "    }\n",
       "\n",
       "    .dataframe tbody tr th {\n",
       "        vertical-align: top;\n",
       "    }\n",
       "\n",
       "    .dataframe thead th {\n",
       "        text-align: right;\n",
       "    }\n",
       "</style>\n",
       "<table border=\"1\" class=\"dataframe\">\n",
       "  <thead>\n",
       "    <tr style=\"text-align: right;\">\n",
       "      <th></th>\n",
       "      <th>event</th>\n",
       "      <th>person</th>\n",
       "      <th>time</th>\n",
       "      <th>value</th>\n",
       "    </tr>\n",
       "  </thead>\n",
       "  <tbody>\n",
       "    <tr>\n",
       "      <th>306529</th>\n",
       "      <td>transaction</td>\n",
       "      <td>b3a1272bc9904337b331bf348c3e8c17</td>\n",
       "      <td>714</td>\n",
       "      <td>{'amount': 1.5899999999999999}</td>\n",
       "    </tr>\n",
       "    <tr>\n",
       "      <th>306530</th>\n",
       "      <td>transaction</td>\n",
       "      <td>68213b08d99a4ae1b0dcb72aebd9aa35</td>\n",
       "      <td>714</td>\n",
       "      <td>{'amount': 9.53}</td>\n",
       "    </tr>\n",
       "    <tr>\n",
       "      <th>306531</th>\n",
       "      <td>transaction</td>\n",
       "      <td>a00058cf10334a308c68e7631c529907</td>\n",
       "      <td>714</td>\n",
       "      <td>{'amount': 3.61}</td>\n",
       "    </tr>\n",
       "    <tr>\n",
       "      <th>306532</th>\n",
       "      <td>transaction</td>\n",
       "      <td>76ddbd6576844afe811f1a3c0fbb5bec</td>\n",
       "      <td>714</td>\n",
       "      <td>{'amount': 3.5300000000000002}</td>\n",
       "    </tr>\n",
       "    <tr>\n",
       "      <th>306533</th>\n",
       "      <td>transaction</td>\n",
       "      <td>c02b10e8752c4d8e9b73f918558531f7</td>\n",
       "      <td>714</td>\n",
       "      <td>{'amount': 4.05}</td>\n",
       "    </tr>\n",
       "  </tbody>\n",
       "</table>\n",
       "</div>"
      ],
      "text/plain": [
       "              event                            person  time  \\\n",
       "306529  transaction  b3a1272bc9904337b331bf348c3e8c17   714   \n",
       "306530  transaction  68213b08d99a4ae1b0dcb72aebd9aa35   714   \n",
       "306531  transaction  a00058cf10334a308c68e7631c529907   714   \n",
       "306532  transaction  76ddbd6576844afe811f1a3c0fbb5bec   714   \n",
       "306533  transaction  c02b10e8752c4d8e9b73f918558531f7   714   \n",
       "\n",
       "                                 value  \n",
       "306529  {'amount': 1.5899999999999999}  \n",
       "306530                {'amount': 9.53}  \n",
       "306531                {'amount': 3.61}  \n",
       "306532  {'amount': 3.5300000000000002}  \n",
       "306533                {'amount': 4.05}  "
      ]
     },
     "execution_count": 18,
     "metadata": {},
     "output_type": "execute_result"
    }
   ],
   "source": [
    "transcript.tail()\n"
   ]
  },
  {
   "cell_type": "code",
   "execution_count": 19,
   "metadata": {},
   "outputs": [],
   "source": [
    "def clean_transcript(transcript):\n",
    "    \n",
    "    #Extract offer_id from value column\n",
    "    transcript['offer_id'] = transcript['value'].apply(lambda x: x['offer_id'] if 'offer_id' in x else (x['offer id'] if 'offer id' in x else None))\n",
    "    \n",
    "    #create two seperate columns for reward and amount\n",
    "    \n",
    "    for i in ['reward','amount']:\n",
    "        transcript[i] = transcript['value'].apply(lambda x:x[i] if i in x else None)\n",
    "    \n",
    "    transcript.drop('value',axis=1,inplace=True)\n",
    "    \n",
    "    transcript.rename(columns={'person':'customer_id'},inplace=True)\n",
    "    \n",
    "    #Convert transcript time from hours to days\n",
    "    transcript['time'] = transcript['time'] / 24\n",
    "    \n",
    "    return transcript\n",
    "transcript = clean_transcript(transcript)"
   ]
  },
  {
   "cell_type": "code",
   "execution_count": 20,
   "metadata": {},
   "outputs": [
    {
     "data": {
      "text/html": [
       "<div>\n",
       "<style scoped>\n",
       "    .dataframe tbody tr th:only-of-type {\n",
       "        vertical-align: middle;\n",
       "    }\n",
       "\n",
       "    .dataframe tbody tr th {\n",
       "        vertical-align: top;\n",
       "    }\n",
       "\n",
       "    .dataframe thead th {\n",
       "        text-align: right;\n",
       "    }\n",
       "</style>\n",
       "<table border=\"1\" class=\"dataframe\">\n",
       "  <thead>\n",
       "    <tr style=\"text-align: right;\">\n",
       "      <th></th>\n",
       "      <th>event</th>\n",
       "      <th>customer_id</th>\n",
       "      <th>time</th>\n",
       "      <th>offer_id</th>\n",
       "      <th>reward</th>\n",
       "      <th>amount</th>\n",
       "    </tr>\n",
       "  </thead>\n",
       "  <tbody>\n",
       "    <tr>\n",
       "      <th>0</th>\n",
       "      <td>offer received</td>\n",
       "      <td>78afa995795e4d85b5d9ceeca43f5fef</td>\n",
       "      <td>0.0</td>\n",
       "      <td>9b98b8c7a33c4b65b9aebfe6a799e6d9</td>\n",
       "      <td>NaN</td>\n",
       "      <td>NaN</td>\n",
       "    </tr>\n",
       "    <tr>\n",
       "      <th>1</th>\n",
       "      <td>offer received</td>\n",
       "      <td>a03223e636434f42ac4c3df47e8bac43</td>\n",
       "      <td>0.0</td>\n",
       "      <td>0b1e1539f2cc45b7b9fa7c272da2e1d7</td>\n",
       "      <td>NaN</td>\n",
       "      <td>NaN</td>\n",
       "    </tr>\n",
       "    <tr>\n",
       "      <th>2</th>\n",
       "      <td>offer received</td>\n",
       "      <td>e2127556f4f64592b11af22de27a7932</td>\n",
       "      <td>0.0</td>\n",
       "      <td>2906b810c7d4411798c6938adc9daaa5</td>\n",
       "      <td>NaN</td>\n",
       "      <td>NaN</td>\n",
       "    </tr>\n",
       "    <tr>\n",
       "      <th>3</th>\n",
       "      <td>offer received</td>\n",
       "      <td>8ec6ce2a7e7949b1bf142def7d0e0586</td>\n",
       "      <td>0.0</td>\n",
       "      <td>fafdcd668e3743c1bb461111dcafc2a4</td>\n",
       "      <td>NaN</td>\n",
       "      <td>NaN</td>\n",
       "    </tr>\n",
       "    <tr>\n",
       "      <th>4</th>\n",
       "      <td>offer received</td>\n",
       "      <td>68617ca6246f4fbc85e91a2a49552598</td>\n",
       "      <td>0.0</td>\n",
       "      <td>4d5c57ea9a6940dd891ad53e9dbe8da0</td>\n",
       "      <td>NaN</td>\n",
       "      <td>NaN</td>\n",
       "    </tr>\n",
       "  </tbody>\n",
       "</table>\n",
       "</div>"
      ],
      "text/plain": [
       "            event                       customer_id  time  \\\n",
       "0  offer received  78afa995795e4d85b5d9ceeca43f5fef   0.0   \n",
       "1  offer received  a03223e636434f42ac4c3df47e8bac43   0.0   \n",
       "2  offer received  e2127556f4f64592b11af22de27a7932   0.0   \n",
       "3  offer received  8ec6ce2a7e7949b1bf142def7d0e0586   0.0   \n",
       "4  offer received  68617ca6246f4fbc85e91a2a49552598   0.0   \n",
       "\n",
       "                           offer_id  reward  amount  \n",
       "0  9b98b8c7a33c4b65b9aebfe6a799e6d9     NaN     NaN  \n",
       "1  0b1e1539f2cc45b7b9fa7c272da2e1d7     NaN     NaN  \n",
       "2  2906b810c7d4411798c6938adc9daaa5     NaN     NaN  \n",
       "3  fafdcd668e3743c1bb461111dcafc2a4     NaN     NaN  \n",
       "4  4d5c57ea9a6940dd891ad53e9dbe8da0     NaN     NaN  "
      ]
     },
     "execution_count": 20,
     "metadata": {},
     "output_type": "execute_result"
    }
   ],
   "source": [
    "transcript.head()"
   ]
  },
  {
   "cell_type": "code",
   "execution_count": 21,
   "metadata": {},
   "outputs": [
    {
     "data": {
      "text/html": [
       "<div>\n",
       "<style scoped>\n",
       "    .dataframe tbody tr th:only-of-type {\n",
       "        vertical-align: middle;\n",
       "    }\n",
       "\n",
       "    .dataframe tbody tr th {\n",
       "        vertical-align: top;\n",
       "    }\n",
       "\n",
       "    .dataframe thead th {\n",
       "        text-align: right;\n",
       "    }\n",
       "</style>\n",
       "<table border=\"1\" class=\"dataframe\">\n",
       "  <thead>\n",
       "    <tr style=\"text-align: right;\">\n",
       "      <th></th>\n",
       "      <th>event</th>\n",
       "      <th>customer_id</th>\n",
       "      <th>time</th>\n",
       "      <th>offer_id</th>\n",
       "      <th>reward</th>\n",
       "      <th>amount</th>\n",
       "    </tr>\n",
       "  </thead>\n",
       "  <tbody>\n",
       "    <tr>\n",
       "      <th>0</th>\n",
       "      <td>offer received</td>\n",
       "      <td>78afa995795e4d85b5d9ceeca43f5fef</td>\n",
       "      <td>0.00</td>\n",
       "      <td>9b98b8c7a33c4b65b9aebfe6a799e6d9</td>\n",
       "      <td>NaN</td>\n",
       "      <td>NaN</td>\n",
       "    </tr>\n",
       "    <tr>\n",
       "      <th>15561</th>\n",
       "      <td>offer viewed</td>\n",
       "      <td>78afa995795e4d85b5d9ceeca43f5fef</td>\n",
       "      <td>0.25</td>\n",
       "      <td>9b98b8c7a33c4b65b9aebfe6a799e6d9</td>\n",
       "      <td>NaN</td>\n",
       "      <td>NaN</td>\n",
       "    </tr>\n",
       "    <tr>\n",
       "      <th>47582</th>\n",
       "      <td>transaction</td>\n",
       "      <td>78afa995795e4d85b5d9ceeca43f5fef</td>\n",
       "      <td>5.50</td>\n",
       "      <td>None</td>\n",
       "      <td>NaN</td>\n",
       "      <td>19.89</td>\n",
       "    </tr>\n",
       "    <tr>\n",
       "      <th>47583</th>\n",
       "      <td>offer completed</td>\n",
       "      <td>78afa995795e4d85b5d9ceeca43f5fef</td>\n",
       "      <td>5.50</td>\n",
       "      <td>9b98b8c7a33c4b65b9aebfe6a799e6d9</td>\n",
       "      <td>5.0</td>\n",
       "      <td>NaN</td>\n",
       "    </tr>\n",
       "    <tr>\n",
       "      <th>49502</th>\n",
       "      <td>transaction</td>\n",
       "      <td>78afa995795e4d85b5d9ceeca43f5fef</td>\n",
       "      <td>6.00</td>\n",
       "      <td>None</td>\n",
       "      <td>NaN</td>\n",
       "      <td>17.78</td>\n",
       "    </tr>\n",
       "    <tr>\n",
       "      <th>53176</th>\n",
       "      <td>offer received</td>\n",
       "      <td>78afa995795e4d85b5d9ceeca43f5fef</td>\n",
       "      <td>7.00</td>\n",
       "      <td>5a8bc65990b245e5a138643cd4eb9837</td>\n",
       "      <td>NaN</td>\n",
       "      <td>NaN</td>\n",
       "    </tr>\n",
       "    <tr>\n",
       "      <th>85291</th>\n",
       "      <td>offer viewed</td>\n",
       "      <td>78afa995795e4d85b5d9ceeca43f5fef</td>\n",
       "      <td>9.00</td>\n",
       "      <td>5a8bc65990b245e5a138643cd4eb9837</td>\n",
       "      <td>NaN</td>\n",
       "      <td>NaN</td>\n",
       "    </tr>\n",
       "    <tr>\n",
       "      <th>87134</th>\n",
       "      <td>transaction</td>\n",
       "      <td>78afa995795e4d85b5d9ceeca43f5fef</td>\n",
       "      <td>9.25</td>\n",
       "      <td>None</td>\n",
       "      <td>NaN</td>\n",
       "      <td>19.67</td>\n",
       "    </tr>\n",
       "    <tr>\n",
       "      <th>92104</th>\n",
       "      <td>transaction</td>\n",
       "      <td>78afa995795e4d85b5d9ceeca43f5fef</td>\n",
       "      <td>10.00</td>\n",
       "      <td>None</td>\n",
       "      <td>NaN</td>\n",
       "      <td>29.72</td>\n",
       "    </tr>\n",
       "    <tr>\n",
       "      <th>141566</th>\n",
       "      <td>transaction</td>\n",
       "      <td>78afa995795e4d85b5d9ceeca43f5fef</td>\n",
       "      <td>15.75</td>\n",
       "      <td>None</td>\n",
       "      <td>NaN</td>\n",
       "      <td>23.93</td>\n",
       "    </tr>\n",
       "    <tr>\n",
       "      <th>150598</th>\n",
       "      <td>offer received</td>\n",
       "      <td>78afa995795e4d85b5d9ceeca43f5fef</td>\n",
       "      <td>17.00</td>\n",
       "      <td>ae264e3637204a6fb9bb56bc8210ddfd</td>\n",
       "      <td>NaN</td>\n",
       "      <td>NaN</td>\n",
       "    </tr>\n",
       "    <tr>\n",
       "      <th>163375</th>\n",
       "      <td>offer viewed</td>\n",
       "      <td>78afa995795e4d85b5d9ceeca43f5fef</td>\n",
       "      <td>17.00</td>\n",
       "      <td>ae264e3637204a6fb9bb56bc8210ddfd</td>\n",
       "      <td>NaN</td>\n",
       "      <td>NaN</td>\n",
       "    </tr>\n",
       "    <tr>\n",
       "      <th>201572</th>\n",
       "      <td>offer received</td>\n",
       "      <td>78afa995795e4d85b5d9ceeca43f5fef</td>\n",
       "      <td>21.00</td>\n",
       "      <td>f19421c1d4aa40978ebb69ca19b0e20d</td>\n",
       "      <td>NaN</td>\n",
       "      <td>NaN</td>\n",
       "    </tr>\n",
       "    <tr>\n",
       "      <th>218393</th>\n",
       "      <td>transaction</td>\n",
       "      <td>78afa995795e4d85b5d9ceeca43f5fef</td>\n",
       "      <td>21.25</td>\n",
       "      <td>None</td>\n",
       "      <td>NaN</td>\n",
       "      <td>21.72</td>\n",
       "    </tr>\n",
       "    <tr>\n",
       "      <th>218394</th>\n",
       "      <td>offer completed</td>\n",
       "      <td>78afa995795e4d85b5d9ceeca43f5fef</td>\n",
       "      <td>21.25</td>\n",
       "      <td>ae264e3637204a6fb9bb56bc8210ddfd</td>\n",
       "      <td>10.0</td>\n",
       "      <td>NaN</td>\n",
       "    </tr>\n",
       "    <tr>\n",
       "      <th>218395</th>\n",
       "      <td>offer completed</td>\n",
       "      <td>78afa995795e4d85b5d9ceeca43f5fef</td>\n",
       "      <td>21.25</td>\n",
       "      <td>f19421c1d4aa40978ebb69ca19b0e20d</td>\n",
       "      <td>5.0</td>\n",
       "      <td>NaN</td>\n",
       "    </tr>\n",
       "    <tr>\n",
       "      <th>230412</th>\n",
       "      <td>transaction</td>\n",
       "      <td>78afa995795e4d85b5d9ceeca43f5fef</td>\n",
       "      <td>22.25</td>\n",
       "      <td>None</td>\n",
       "      <td>NaN</td>\n",
       "      <td>26.56</td>\n",
       "    </tr>\n",
       "    <tr>\n",
       "      <th>262138</th>\n",
       "      <td>offer viewed</td>\n",
       "      <td>78afa995795e4d85b5d9ceeca43f5fef</td>\n",
       "      <td>24.25</td>\n",
       "      <td>f19421c1d4aa40978ebb69ca19b0e20d</td>\n",
       "      <td>NaN</td>\n",
       "      <td>NaN</td>\n",
       "    </tr>\n",
       "  </tbody>\n",
       "</table>\n",
       "</div>"
      ],
      "text/plain": [
       "                  event                       customer_id   time  \\\n",
       "0        offer received  78afa995795e4d85b5d9ceeca43f5fef   0.00   \n",
       "15561      offer viewed  78afa995795e4d85b5d9ceeca43f5fef   0.25   \n",
       "47582       transaction  78afa995795e4d85b5d9ceeca43f5fef   5.50   \n",
       "47583   offer completed  78afa995795e4d85b5d9ceeca43f5fef   5.50   \n",
       "49502       transaction  78afa995795e4d85b5d9ceeca43f5fef   6.00   \n",
       "53176    offer received  78afa995795e4d85b5d9ceeca43f5fef   7.00   \n",
       "85291      offer viewed  78afa995795e4d85b5d9ceeca43f5fef   9.00   \n",
       "87134       transaction  78afa995795e4d85b5d9ceeca43f5fef   9.25   \n",
       "92104       transaction  78afa995795e4d85b5d9ceeca43f5fef  10.00   \n",
       "141566      transaction  78afa995795e4d85b5d9ceeca43f5fef  15.75   \n",
       "150598   offer received  78afa995795e4d85b5d9ceeca43f5fef  17.00   \n",
       "163375     offer viewed  78afa995795e4d85b5d9ceeca43f5fef  17.00   \n",
       "201572   offer received  78afa995795e4d85b5d9ceeca43f5fef  21.00   \n",
       "218393      transaction  78afa995795e4d85b5d9ceeca43f5fef  21.25   \n",
       "218394  offer completed  78afa995795e4d85b5d9ceeca43f5fef  21.25   \n",
       "218395  offer completed  78afa995795e4d85b5d9ceeca43f5fef  21.25   \n",
       "230412      transaction  78afa995795e4d85b5d9ceeca43f5fef  22.25   \n",
       "262138     offer viewed  78afa995795e4d85b5d9ceeca43f5fef  24.25   \n",
       "\n",
       "                                offer_id  reward  amount  \n",
       "0       9b98b8c7a33c4b65b9aebfe6a799e6d9     NaN     NaN  \n",
       "15561   9b98b8c7a33c4b65b9aebfe6a799e6d9     NaN     NaN  \n",
       "47582                               None     NaN   19.89  \n",
       "47583   9b98b8c7a33c4b65b9aebfe6a799e6d9     5.0     NaN  \n",
       "49502                               None     NaN   17.78  \n",
       "53176   5a8bc65990b245e5a138643cd4eb9837     NaN     NaN  \n",
       "85291   5a8bc65990b245e5a138643cd4eb9837     NaN     NaN  \n",
       "87134                               None     NaN   19.67  \n",
       "92104                               None     NaN   29.72  \n",
       "141566                              None     NaN   23.93  \n",
       "150598  ae264e3637204a6fb9bb56bc8210ddfd     NaN     NaN  \n",
       "163375  ae264e3637204a6fb9bb56bc8210ddfd     NaN     NaN  \n",
       "201572  f19421c1d4aa40978ebb69ca19b0e20d     NaN     NaN  \n",
       "218393                              None     NaN   21.72  \n",
       "218394  ae264e3637204a6fb9bb56bc8210ddfd    10.0     NaN  \n",
       "218395  f19421c1d4aa40978ebb69ca19b0e20d     5.0     NaN  \n",
       "230412                              None     NaN   26.56  \n",
       "262138  f19421c1d4aa40978ebb69ca19b0e20d     NaN     NaN  "
      ]
     },
     "execution_count": 21,
     "metadata": {},
     "output_type": "execute_result"
    }
   ],
   "source": [
    "#Explore transcript for one person\n",
    "\n",
    "transcript[transcript['customer_id']=='78afa995795e4d85b5d9ceeca43f5fef']\n"
   ]
  },
  {
   "cell_type": "code",
   "execution_count": 22,
   "metadata": {
    "scrolled": false
   },
   "outputs": [],
   "source": [
    "def transform_transcript(transcript):\n",
    "    '''\n",
    "    Function to transform transcript dataframe to return a dataframe where it shows each successful and unsuccesful offer.\n",
    "    \n",
    "    Input - Transcript dataframe \n",
    "    \n",
    "    Output - transformed transcript dataframe\n",
    "     \n",
    "    '''\n",
    "    \n",
    "    offer_customer = transcript.groupby(['customer_id','offer_id','event'])['time'].count().unstack()\n",
    "    \n",
    "    offer_customer.reset_index(level=[0,1],inplace = True)\n",
    "    \n",
    "    #Replace nan values with 0.0\n",
    "    \n",
    "    offer_customer.fillna(0.0, inplace = True)\n",
    "    \n",
    "    #Need to determine which offers where successful - where offer completed and offer viewed  are greater than 1.\n",
    "    \n",
    "    #We can multiply the two columns together and replace any values > 0 with 1.\n",
    "    \n",
    "    #This is an important step as some offers are completed but have not been viewed - meaning the offer did not cause the \n",
    "    #transaction.\n",
    "    \n",
    "    offer_customer['successful offer'] = offer_customer['offer completed'] * offer_customer['offer viewed']\n",
    "    \n",
    "    offer_customer['successful offer'] = offer_customer['successful offer'].apply(lambda x: 1.0 if x > 0 else 0.0)\n",
    "    \n",
    "    offer_customer.drop(['offer completed','offer viewed','offer received'],axis=1, inplace = True)\n",
    "                                                        \n",
    "                \n",
    "    return offer_customer\n",
    "\n",
    "transcript = transform_transcript(transcript)\n",
    "                    \n",
    "            "
   ]
  },
  {
   "cell_type": "code",
   "execution_count": 24,
   "metadata": {},
   "outputs": [
    {
     "data": {
      "text/html": [
       "<div>\n",
       "<style scoped>\n",
       "    .dataframe tbody tr th:only-of-type {\n",
       "        vertical-align: middle;\n",
       "    }\n",
       "\n",
       "    .dataframe tbody tr th {\n",
       "        vertical-align: top;\n",
       "    }\n",
       "\n",
       "    .dataframe thead th {\n",
       "        text-align: right;\n",
       "    }\n",
       "</style>\n",
       "<table border=\"1\" class=\"dataframe\">\n",
       "  <thead>\n",
       "    <tr style=\"text-align: right;\">\n",
       "      <th></th>\n",
       "      <th>customer_id</th>\n",
       "      <th>offer_id</th>\n",
       "      <th>successful offer</th>\n",
       "      <th>difficulty</th>\n",
       "      <th>duration</th>\n",
       "      <th>reward</th>\n",
       "      <th>email</th>\n",
       "      <th>mobile</th>\n",
       "      <th>social</th>\n",
       "      <th>web</th>\n",
       "      <th>offer_type-bogo</th>\n",
       "      <th>offer_type-discount</th>\n",
       "      <th>offer_type-informational</th>\n",
       "      <th>age</th>\n",
       "      <th>became_member_on</th>\n",
       "      <th>gender</th>\n",
       "      <th>income</th>\n",
       "      <th>gender-F</th>\n",
       "      <th>gender-M</th>\n",
       "      <th>gender-O</th>\n",
       "    </tr>\n",
       "  </thead>\n",
       "  <tbody>\n",
       "    <tr>\n",
       "      <th>0</th>\n",
       "      <td>0009655768c64bdeb2e877511632db8f</td>\n",
       "      <td>2906b810c7d4411798c6938adc9daaa5</td>\n",
       "      <td>0.0</td>\n",
       "      <td>10</td>\n",
       "      <td>7</td>\n",
       "      <td>2</td>\n",
       "      <td>1</td>\n",
       "      <td>1</td>\n",
       "      <td>0</td>\n",
       "      <td>1</td>\n",
       "      <td>0</td>\n",
       "      <td>1</td>\n",
       "      <td>0</td>\n",
       "      <td>33.0</td>\n",
       "      <td>1301.0</td>\n",
       "      <td>M</td>\n",
       "      <td>72000.0</td>\n",
       "      <td>0</td>\n",
       "      <td>1</td>\n",
       "      <td>0</td>\n",
       "    </tr>\n",
       "    <tr>\n",
       "      <th>1</th>\n",
       "      <td>0009655768c64bdeb2e877511632db8f</td>\n",
       "      <td>3f207df678b143eea3cee63160fa8bed</td>\n",
       "      <td>0.0</td>\n",
       "      <td>0</td>\n",
       "      <td>4</td>\n",
       "      <td>0</td>\n",
       "      <td>1</td>\n",
       "      <td>1</td>\n",
       "      <td>0</td>\n",
       "      <td>1</td>\n",
       "      <td>0</td>\n",
       "      <td>0</td>\n",
       "      <td>1</td>\n",
       "      <td>33.0</td>\n",
       "      <td>1301.0</td>\n",
       "      <td>M</td>\n",
       "      <td>72000.0</td>\n",
       "      <td>0</td>\n",
       "      <td>1</td>\n",
       "      <td>0</td>\n",
       "    </tr>\n",
       "    <tr>\n",
       "      <th>2</th>\n",
       "      <td>0009655768c64bdeb2e877511632db8f</td>\n",
       "      <td>5a8bc65990b245e5a138643cd4eb9837</td>\n",
       "      <td>0.0</td>\n",
       "      <td>0</td>\n",
       "      <td>3</td>\n",
       "      <td>0</td>\n",
       "      <td>1</td>\n",
       "      <td>1</td>\n",
       "      <td>1</td>\n",
       "      <td>0</td>\n",
       "      <td>0</td>\n",
       "      <td>0</td>\n",
       "      <td>1</td>\n",
       "      <td>33.0</td>\n",
       "      <td>1301.0</td>\n",
       "      <td>M</td>\n",
       "      <td>72000.0</td>\n",
       "      <td>0</td>\n",
       "      <td>1</td>\n",
       "      <td>0</td>\n",
       "    </tr>\n",
       "    <tr>\n",
       "      <th>3</th>\n",
       "      <td>0009655768c64bdeb2e877511632db8f</td>\n",
       "      <td>f19421c1d4aa40978ebb69ca19b0e20d</td>\n",
       "      <td>1.0</td>\n",
       "      <td>5</td>\n",
       "      <td>5</td>\n",
       "      <td>5</td>\n",
       "      <td>1</td>\n",
       "      <td>1</td>\n",
       "      <td>1</td>\n",
       "      <td>1</td>\n",
       "      <td>1</td>\n",
       "      <td>0</td>\n",
       "      <td>0</td>\n",
       "      <td>33.0</td>\n",
       "      <td>1301.0</td>\n",
       "      <td>M</td>\n",
       "      <td>72000.0</td>\n",
       "      <td>0</td>\n",
       "      <td>1</td>\n",
       "      <td>0</td>\n",
       "    </tr>\n",
       "    <tr>\n",
       "      <th>4</th>\n",
       "      <td>0009655768c64bdeb2e877511632db8f</td>\n",
       "      <td>fafdcd668e3743c1bb461111dcafc2a4</td>\n",
       "      <td>1.0</td>\n",
       "      <td>10</td>\n",
       "      <td>10</td>\n",
       "      <td>2</td>\n",
       "      <td>1</td>\n",
       "      <td>1</td>\n",
       "      <td>1</td>\n",
       "      <td>1</td>\n",
       "      <td>0</td>\n",
       "      <td>1</td>\n",
       "      <td>0</td>\n",
       "      <td>33.0</td>\n",
       "      <td>1301.0</td>\n",
       "      <td>M</td>\n",
       "      <td>72000.0</td>\n",
       "      <td>0</td>\n",
       "      <td>1</td>\n",
       "      <td>0</td>\n",
       "    </tr>\n",
       "  </tbody>\n",
       "</table>\n",
       "</div>"
      ],
      "text/plain": [
       "                        customer_id                          offer_id  \\\n",
       "0  0009655768c64bdeb2e877511632db8f  2906b810c7d4411798c6938adc9daaa5   \n",
       "1  0009655768c64bdeb2e877511632db8f  3f207df678b143eea3cee63160fa8bed   \n",
       "2  0009655768c64bdeb2e877511632db8f  5a8bc65990b245e5a138643cd4eb9837   \n",
       "3  0009655768c64bdeb2e877511632db8f  f19421c1d4aa40978ebb69ca19b0e20d   \n",
       "4  0009655768c64bdeb2e877511632db8f  fafdcd668e3743c1bb461111dcafc2a4   \n",
       "\n",
       "   successful offer  difficulty  duration  reward  email  mobile  social  web  \\\n",
       "0               0.0          10         7       2      1       1       0    1   \n",
       "1               0.0           0         4       0      1       1       0    1   \n",
       "2               0.0           0         3       0      1       1       1    0   \n",
       "3               1.0           5         5       5      1       1       1    1   \n",
       "4               1.0          10        10       2      1       1       1    1   \n",
       "\n",
       "   offer_type-bogo  offer_type-discount  offer_type-informational   age  \\\n",
       "0                0                    1                         0  33.0   \n",
       "1                0                    0                         1  33.0   \n",
       "2                0                    0                         1  33.0   \n",
       "3                1                    0                         0  33.0   \n",
       "4                0                    1                         0  33.0   \n",
       "\n",
       "   became_member_on gender   income  gender-F  gender-M  gender-O  \n",
       "0            1301.0      M  72000.0         0         1         0  \n",
       "1            1301.0      M  72000.0         0         1         0  \n",
       "2            1301.0      M  72000.0         0         1         0  \n",
       "3            1301.0      M  72000.0         0         1         0  \n",
       "4            1301.0      M  72000.0         0         1         0  "
      ]
     },
     "execution_count": 24,
     "metadata": {},
     "output_type": "execute_result"
    }
   ],
   "source": [
    "def merge_dataframes(profile,portfolio,transcript):\n",
    "    \n",
    "    '''\n",
    "    Function to merge all the dataframes together.\n",
    "    \n",
    "    Input - profile, portfolio and transcript dataframes\n",
    "    \n",
    "    Output - single dataframe\n",
    "    \n",
    "    '''\n",
    "    \n",
    "    overall = transcript.merge(portfolio,how='left',on='offer_id')\n",
    "    \n",
    "    overall = overall.merge(profile,how='left',on='customer_id')\n",
    "    \n",
    "    \n",
    "    return overall\n",
    "\n",
    "\n",
    "overall_df = merge_dataframes(profile,portfolio,transcript)\n",
    "\n",
    "overall_df.head()"
   ]
  },
  {
   "cell_type": "markdown",
   "metadata": {},
   "source": [
    "We now have a single dataframe which includes information about the offer and information about the customer for every combination of offers and customers.\n",
    "\n",
    "We also determined whether an offer was successful - which was when an offer was completed and viewed by the customer."
   ]
  },
  {
   "cell_type": "code",
   "execution_count": 25,
   "metadata": {},
   "outputs": [
    {
     "data": {
      "text/html": [
       "<div>\n",
       "<style scoped>\n",
       "    .dataframe tbody tr th:only-of-type {\n",
       "        vertical-align: middle;\n",
       "    }\n",
       "\n",
       "    .dataframe tbody tr th {\n",
       "        vertical-align: top;\n",
       "    }\n",
       "\n",
       "    .dataframe thead th {\n",
       "        text-align: right;\n",
       "    }\n",
       "</style>\n",
       "<table border=\"1\" class=\"dataframe\">\n",
       "  <thead>\n",
       "    <tr style=\"text-align: right;\">\n",
       "      <th></th>\n",
       "      <th>customer_id</th>\n",
       "      <th>offer_id</th>\n",
       "      <th>successful offer</th>\n",
       "      <th>difficulty</th>\n",
       "      <th>duration</th>\n",
       "      <th>reward</th>\n",
       "      <th>email</th>\n",
       "      <th>mobile</th>\n",
       "      <th>social</th>\n",
       "      <th>web</th>\n",
       "      <th>offer_type-bogo</th>\n",
       "      <th>offer_type-discount</th>\n",
       "      <th>offer_type-informational</th>\n",
       "      <th>age</th>\n",
       "      <th>became_member_on</th>\n",
       "      <th>gender</th>\n",
       "      <th>income</th>\n",
       "      <th>gender-F</th>\n",
       "      <th>gender-M</th>\n",
       "      <th>gender-O</th>\n",
       "    </tr>\n",
       "  </thead>\n",
       "  <tbody>\n",
       "    <tr>\n",
       "      <th>0</th>\n",
       "      <td>0009655768c64bdeb2e877511632db8f</td>\n",
       "      <td>Offer 1</td>\n",
       "      <td>0.0</td>\n",
       "      <td>10</td>\n",
       "      <td>7</td>\n",
       "      <td>2</td>\n",
       "      <td>1</td>\n",
       "      <td>1</td>\n",
       "      <td>0</td>\n",
       "      <td>1</td>\n",
       "      <td>0</td>\n",
       "      <td>1</td>\n",
       "      <td>0</td>\n",
       "      <td>33.0</td>\n",
       "      <td>1301.0</td>\n",
       "      <td>M</td>\n",
       "      <td>72000.0</td>\n",
       "      <td>0</td>\n",
       "      <td>1</td>\n",
       "      <td>0</td>\n",
       "    </tr>\n",
       "    <tr>\n",
       "      <th>1</th>\n",
       "      <td>0009655768c64bdeb2e877511632db8f</td>\n",
       "      <td>Offer 2</td>\n",
       "      <td>0.0</td>\n",
       "      <td>0</td>\n",
       "      <td>4</td>\n",
       "      <td>0</td>\n",
       "      <td>1</td>\n",
       "      <td>1</td>\n",
       "      <td>0</td>\n",
       "      <td>1</td>\n",
       "      <td>0</td>\n",
       "      <td>0</td>\n",
       "      <td>1</td>\n",
       "      <td>33.0</td>\n",
       "      <td>1301.0</td>\n",
       "      <td>M</td>\n",
       "      <td>72000.0</td>\n",
       "      <td>0</td>\n",
       "      <td>1</td>\n",
       "      <td>0</td>\n",
       "    </tr>\n",
       "    <tr>\n",
       "      <th>2</th>\n",
       "      <td>0009655768c64bdeb2e877511632db8f</td>\n",
       "      <td>Offer 3</td>\n",
       "      <td>0.0</td>\n",
       "      <td>0</td>\n",
       "      <td>3</td>\n",
       "      <td>0</td>\n",
       "      <td>1</td>\n",
       "      <td>1</td>\n",
       "      <td>1</td>\n",
       "      <td>0</td>\n",
       "      <td>0</td>\n",
       "      <td>0</td>\n",
       "      <td>1</td>\n",
       "      <td>33.0</td>\n",
       "      <td>1301.0</td>\n",
       "      <td>M</td>\n",
       "      <td>72000.0</td>\n",
       "      <td>0</td>\n",
       "      <td>1</td>\n",
       "      <td>0</td>\n",
       "    </tr>\n",
       "    <tr>\n",
       "      <th>3</th>\n",
       "      <td>0009655768c64bdeb2e877511632db8f</td>\n",
       "      <td>Offer 4</td>\n",
       "      <td>1.0</td>\n",
       "      <td>5</td>\n",
       "      <td>5</td>\n",
       "      <td>5</td>\n",
       "      <td>1</td>\n",
       "      <td>1</td>\n",
       "      <td>1</td>\n",
       "      <td>1</td>\n",
       "      <td>1</td>\n",
       "      <td>0</td>\n",
       "      <td>0</td>\n",
       "      <td>33.0</td>\n",
       "      <td>1301.0</td>\n",
       "      <td>M</td>\n",
       "      <td>72000.0</td>\n",
       "      <td>0</td>\n",
       "      <td>1</td>\n",
       "      <td>0</td>\n",
       "    </tr>\n",
       "    <tr>\n",
       "      <th>4</th>\n",
       "      <td>0009655768c64bdeb2e877511632db8f</td>\n",
       "      <td>Offer 5</td>\n",
       "      <td>1.0</td>\n",
       "      <td>10</td>\n",
       "      <td>10</td>\n",
       "      <td>2</td>\n",
       "      <td>1</td>\n",
       "      <td>1</td>\n",
       "      <td>1</td>\n",
       "      <td>1</td>\n",
       "      <td>0</td>\n",
       "      <td>1</td>\n",
       "      <td>0</td>\n",
       "      <td>33.0</td>\n",
       "      <td>1301.0</td>\n",
       "      <td>M</td>\n",
       "      <td>72000.0</td>\n",
       "      <td>0</td>\n",
       "      <td>1</td>\n",
       "      <td>0</td>\n",
       "    </tr>\n",
       "  </tbody>\n",
       "</table>\n",
       "</div>"
      ],
      "text/plain": [
       "                        customer_id offer_id  successful offer  difficulty  \\\n",
       "0  0009655768c64bdeb2e877511632db8f  Offer 1               0.0          10   \n",
       "1  0009655768c64bdeb2e877511632db8f  Offer 2               0.0           0   \n",
       "2  0009655768c64bdeb2e877511632db8f  Offer 3               0.0           0   \n",
       "3  0009655768c64bdeb2e877511632db8f  Offer 4               1.0           5   \n",
       "4  0009655768c64bdeb2e877511632db8f  Offer 5               1.0          10   \n",
       "\n",
       "   duration  reward  email  mobile  social  web  offer_type-bogo  \\\n",
       "0         7       2      1       1       0    1                0   \n",
       "1         4       0      1       1       0    1                0   \n",
       "2         3       0      1       1       1    0                0   \n",
       "3         5       5      1       1       1    1                1   \n",
       "4        10       2      1       1       1    1                0   \n",
       "\n",
       "   offer_type-discount  offer_type-informational   age  became_member_on  \\\n",
       "0                    1                         0  33.0            1301.0   \n",
       "1                    0                         1  33.0            1301.0   \n",
       "2                    0                         1  33.0            1301.0   \n",
       "3                    0                         0  33.0            1301.0   \n",
       "4                    1                         0  33.0            1301.0   \n",
       "\n",
       "  gender   income  gender-F  gender-M  gender-O  \n",
       "0      M  72000.0         0         1         0  \n",
       "1      M  72000.0         0         1         0  \n",
       "2      M  72000.0         0         1         0  \n",
       "3      M  72000.0         0         1         0  \n",
       "4      M  72000.0         0         1         0  "
      ]
     },
     "execution_count": 25,
     "metadata": {},
     "output_type": "execute_result"
    }
   ],
   "source": [
    "def change_offer_id(overall_df):\n",
    "    \n",
    "    '''\n",
    "    Funtion to change the offer ids into a more readable form e.g offer 1, offer 2.\n",
    "    \n",
    "    Input - overall_df which is the combined dataframe from all 3 datasets.\n",
    "    \n",
    "    Output - overall_df with altered offer ids.\n",
    "    \n",
    "    '''\n",
    "    \n",
    "    unique_ids = list(overall_df['offer_id'].unique())\n",
    "    \n",
    "    for i in range(len(unique_ids)):\n",
    "        \n",
    "        overall_df['offer_id'] = overall_df['offer_id'].apply(lambda x: f'Offer {i+1}' if x == unique_ids[i] else x)\n",
    "        \n",
    "            \n",
    "    return overall_df\n",
    "            \n",
    "overall_df = change_offer_id(overall_df)\n",
    "overall_df.head()\n",
    "\n"
   ]
  },
  {
   "cell_type": "code",
   "execution_count": 26,
   "metadata": {},
   "outputs": [
    {
     "data": {
      "image/png": "[encoded data removed]",
      "text/plain": [
       "<matplotlib.figure.Figure at 0x7fb3d1f3e198>"
      ]
     },
     "metadata": {
      "needs_background": "light"
     },
     "output_type": "display_data"
    }
   ],
   "source": [
    "sns.countplot(x='offer_id',hue='gender',data=overall_df,palette='PuBu');\n",
    "plt.title('Count of Offer Type by Gender')\n",
    "\n",
    "plt.xticks(rotation=45);"
   ]
  },
  {
   "cell_type": "code",
   "execution_count": 27,
   "metadata": {},
   "outputs": [
    {
     "data": {
      "image/png": "[encoded data removed]",
      "text/plain": [
       "<matplotlib.figure.Figure at 0x7fb3cba597f0>"
      ]
     },
     "metadata": {
      "needs_background": "light"
     },
     "output_type": "display_data"
    }
   ],
   "source": [
    "sns.countplot(x='offer_id',hue='successful offer',data=overall_df,palette='Blues');\n",
    "plt.legend(['Unsuccessful','Successful'],frameon=False)\n",
    "plt.title('Count of Offer Type')\n",
    "\n",
    "plt.xticks(rotation=45);\n",
    "\n",
    "\n"
   ]
  },
  {
   "cell_type": "code",
   "execution_count": 28,
   "metadata": {},
   "outputs": [
    {
     "data": {
      "image/png": "[encoded data removed]",
      "text/plain": [
       "<matplotlib.figure.Figure at 0x7fb3cbabc390>"
      ]
     },
     "metadata": {
      "needs_background": "light"
     },
     "output_type": "display_data"
    }
   ],
   "source": [
    "successful = overall_df.loc[overall_df['successful offer']==1]\n",
    "sns.countplot(x='offer_id',hue='gender',data=successful,palette='Blues');\n",
    "plt.legend(['Male','Other','Female'],frameon=False)\n",
    "plt.title('Successful Offer Type by Gender')\n",
    "\n",
    "plt.xticks(rotation=45);"
   ]
  },
  {
   "cell_type": "code",
   "execution_count": 29,
   "metadata": {},
   "outputs": [
    {
     "name": "stderr",
     "output_type": "stream",
     "text": [
      "/opt/conda/lib/python3.6/site-packages/statsmodels/nonparametric/kde.py:454: RuntimeWarning: invalid value encountered in greater\n",
      "  X = X[np.logical_and(X>clip[0], X<clip[1])] # won't work for two columns.\n",
      "/opt/conda/lib/python3.6/site-packages/statsmodels/nonparametric/kde.py:454: RuntimeWarning: invalid value encountered in less\n",
      "  X = X[np.logical_and(X>clip[0], X<clip[1])] # won't work for two columns.\n"
     ]
    },
    {
     "data": {
      "image/png": "[encoded data removed]",
      "text/plain": [
       "<matplotlib.figure.Figure at 0x7fb3cba76eb8>"
      ]
     },
     "metadata": {
      "needs_background": "light"
     },
     "output_type": "display_data"
    }
   ],
   "source": [
    "#Distribution of income whether offer was successful\n",
    "sns.distplot(overall_df.loc[overall_df['successful offer'] == 1]['income'],hist=False,color='green',kde_kws={'shade':True})\n",
    "sns.distplot(overall_df.loc[overall_df['successful offer'] == 0]['income'],hist=False,color='grey',kde_kws={'shade':True})\n",
    "plt.legend(['Successful Offer', 'Unsuccessful Offer'], frameon=False)\n",
    "plt.gca().get_yaxis().set_visible(False)\n",
    "plt.title('Income Distribution');\n"
   ]
  },
  {
   "cell_type": "code",
   "execution_count": 30,
   "metadata": {},
   "outputs": [
    {
     "data": {
      "image/png": "[encoded data removed]",
      "text/plain": [
       "<matplotlib.figure.Figure at 0x7fb3cb9a6588>"
      ]
     },
     "metadata": {},
     "output_type": "display_data"
    }
   ],
   "source": [
    "_ = overall_df.groupby(['gender'])['successful offer'].sum()\n",
    "\n",
    "plt.pie(_, labels = _.index,shadow=True,explode = (0.05,0.05,0.05),colors=['coral','lightblue','green']);\n",
    "plt.legend(['Female','Male','Other'],frameon=False)\n",
    "plt.title(\"Successful Offer by Gender\")\n",
    "\n",
    "plt.gca().axis('Equal');\n"
   ]
  },
  {
   "cell_type": "code",
   "execution_count": 31,
   "metadata": {},
   "outputs": [
    {
     "data": {
      "image/png": "[encoded data removed]",
      "text/plain": [
       "<matplotlib.figure.Figure at 0x7fb3cba42ba8>"
      ]
     },
     "metadata": {
      "needs_background": "light"
     },
     "output_type": "display_data"
    }
   ],
   "source": [
    "sns.distplot(overall_df[overall_df['successful offer']==1]['duration'],hist=False,color='green',kde_kws={'shade':True});\n",
    "sns.distplot(overall_df[overall_df['successful offer']==0]['duration'],hist=False,color='grey',kde_kws={'shade':True})\n",
    "plt.legend(['Successful Offers','Unsuccessful Offers'],frameon=False)\n",
    "plt.title('Distribution of Offer Duration')\n",
    "plt.gca().get_yaxis().set_visible(False);\n",
    "\n"
   ]
  },
  {
   "cell_type": "code",
   "execution_count": 32,
   "metadata": {},
   "outputs": [
    {
     "data": {
      "image/png": "[encoded data removed]",
      "text/plain": [
       "<matplotlib.figure.Figure at 0x7fb3cb961390>"
      ]
     },
     "metadata": {
      "needs_background": "light"
     },
     "output_type": "display_data"
    }
   ],
   "source": [
    "sns.distplot(overall_df[overall_df['successful offer']==1]['difficulty'],hist=False,color='green',kde_kws={'shade':True});\n",
    "sns.distplot(overall_df[overall_df['successful offer']==0]['difficulty'],hist=False,color='grey',kde_kws={'shade':True})\n",
    "plt.legend(['Successful Offers','Unsuccessful Offers'],frameon=False)\n",
    "plt.title('Distribution of Offer Difficulty')\n",
    "plt.gca().get_yaxis().set_visible(False);"
   ]
  },
  {
   "cell_type": "markdown",
   "metadata": {},
   "source": [
    "## Modeling\n",
    "\n",
    "Now we have performed some exploratory analysis on the datasets we can now try a few different machine learning models to try and predict which offer would be best suited for each customer.\n"
   ]
  },
  {
   "cell_type": "markdown",
   "metadata": {},
   "source": [
    "### 1. Random Forrest Classifier\n",
    "\n",
    "We will use an Random Forrest Classifier to try and classify and choose the offer type that would be most well received by the customer.\n"
   ]
  },
  {
   "cell_type": "code",
   "execution_count": 33,
   "metadata": {},
   "outputs": [
    {
     "data": {
      "text/plain": [
       "((24460, 16), (24460,))"
      ]
     },
     "execution_count": 33,
     "metadata": {},
     "output_type": "execute_result"
    }
   ],
   "source": [
    "import warnings\n",
    "\n",
    "warnings.filterwarnings('ignore')\n",
    "\n",
    "def clean_overall_df(overall_df):\n",
    "    '''\n",
    "    Function to clean overall_df to return X variables and the predictor Y\n",
    "    \n",
    "    Input - overall_df\n",
    "    \n",
    "    output - two dataframes X and Y\n",
    "    \n",
    "    X - Will be all the variables we will be using to predict the best offer type.\n",
    "    \n",
    "    Y - Will be the offer type.\n",
    "    \n",
    "    '''\n",
    "    \n",
    "    #We want to look at only successful offers\n",
    "    \n",
    "    clean_df_ = overall_df.loc[overall_df['successful offer'] == 1]\n",
    "    \n",
    "\n",
    "    \n",
    "    clean_df_.drop('gender',axis=1,inplace = True)\n",
    "    \n",
    "    #We have missing values in income and age - fill these with the means for that column.\n",
    "    \n",
    "    for col in ['age','income']:\n",
    "        \n",
    "        clean_df_[col] = clean_df_[col].fillna(clean_df_[col].mean())\n",
    "    \n",
    "    \n",
    "    \n",
    "    \n",
    "    X = clean_df_.iloc[:,3:]\n",
    "    \n",
    "    Y= clean_df_.iloc[:,1]\n",
    "    \n",
    "    \n",
    "    return X, Y\n",
    "\n",
    "X,Y = clean_overall_df(overall_df)\n",
    "    \n",
    "    \n",
    "X.shape, Y.shape\n",
    "    \n",
    "    \n",
    "    "
   ]
  },
  {
   "cell_type": "markdown",
   "metadata": {},
   "source": [
    "Now we have the training and test data sets we need to ensure that there are no missing values."
   ]
  },
  {
   "cell_type": "code",
   "execution_count": 34,
   "metadata": {},
   "outputs": [
    {
     "data": {
      "text/plain": [
       "difficulty                  0\n",
       "duration                    0\n",
       "reward                      0\n",
       "email                       0\n",
       "mobile                      0\n",
       "social                      0\n",
       "web                         0\n",
       "offer_type-bogo             0\n",
       "offer_type-discount         0\n",
       "offer_type-informational    0\n",
       "age                         0\n",
       "became_member_on            0\n",
       "income                      0\n",
       "gender-F                    0\n",
       "gender-M                    0\n",
       "gender-O                    0\n",
       "dtype: int64"
      ]
     },
     "execution_count": 34,
     "metadata": {},
     "output_type": "execute_result"
    }
   ],
   "source": [
    "overall_df.isnull().sum()\n",
    "X.isnull().sum()\n"
   ]
  },
  {
   "cell_type": "code",
   "execution_count": 35,
   "metadata": {},
   "outputs": [
    {
     "data": {
      "text/plain": [
       "((18345, 16), (6115, 16))"
      ]
     },
     "execution_count": 35,
     "metadata": {},
     "output_type": "execute_result"
    }
   ],
   "source": [
    "#train test split\n",
    "\n",
    "X_train, X_test, y_train, y_test = train_test_split(X,Y,test_size=.25,random_state=21)\n",
    "X_train.shape,X_test.shape"
   ]
  },
  {
   "cell_type": "code",
   "execution_count": 36,
   "metadata": {},
   "outputs": [],
   "source": [
    "#Feature scaling\n",
    "scaler = StandardScaler()\n",
    "X_train=scaler.fit_transform(X_train)\n",
    "X_test = scaler.fit_transform(X_test)\n"
   ]
  },
  {
   "cell_type": "code",
   "execution_count": 37,
   "metadata": {},
   "outputs": [
    {
     "data": {
      "text/plain": [
       "RandomForestClassifier(bootstrap=True, class_weight=None, criterion='entropy',\n",
       "            max_depth=None, max_features='auto', max_leaf_nodes=None,\n",
       "            min_impurity_decrease=0.0, min_impurity_split=None,\n",
       "            min_samples_leaf=1, min_samples_split=2,\n",
       "            min_weight_fraction_leaf=0.0, n_estimators=20, n_jobs=1,\n",
       "            oob_score=False, random_state=42, verbose=0, warm_start=False)"
      ]
     },
     "execution_count": 37,
     "metadata": {},
     "output_type": "execute_result"
    }
   ],
   "source": [
    "clf = RandomForestClassifier(n_estimators=20,criterion='entropy',random_state=42)\n",
    "\n",
    "clf.fit(X_train,y_train)"
   ]
  },
  {
   "cell_type": "code",
   "execution_count": 38,
   "metadata": {},
   "outputs": [],
   "source": [
    "y_pred = clf.predict(X_test)"
   ]
  },
  {
   "cell_type": "code",
   "execution_count": 39,
   "metadata": {},
   "outputs": [],
   "source": [
    "confusion = confusion_matrix(y_test,y_pred)"
   ]
  },
  {
   "cell_type": "code",
   "execution_count": 40,
   "metadata": {},
   "outputs": [
    {
     "data": {
      "text/plain": [
       "1.0"
      ]
     },
     "execution_count": 40,
     "metadata": {},
     "output_type": "execute_result"
    }
   ],
   "source": [
    "accuracy_score(y_test,y_pred)"
   ]
  },
  {
   "cell_type": "code",
   "execution_count": 41,
   "metadata": {},
   "outputs": [
    {
     "data": {
      "image/png": "[encoded data removed]",
      "text/plain": [
       "<matplotlib.figure.Figure at 0x7fb3cb927908>"
      ]
     },
     "metadata": {
      "needs_background": "light"
     },
     "output_type": "display_data"
    }
   ],
   "source": [
    "sns.heatmap(confusion)\n",
    "plt.ylabel('True')\n",
    "plt.xlabel('Predicted');"
   ]
  },
  {
   "cell_type": "markdown",
   "metadata": {},
   "source": [
    "In the X dataframe used to train this model i included information about the actual offer e.g difficulty and duration. This probably explains why the classfication accuracy is so high. This is not useful as we want to be able to predict which offer would be successful using information about the customer alone."
   ]
  },
  {
   "cell_type": "code",
   "execution_count": 42,
   "metadata": {},
   "outputs": [
    {
     "data": {
      "text/plain": [
       "RandomForestClassifier(bootstrap=True, class_weight=None, criterion='entropy',\n",
       "            max_depth=None, max_features='auto', max_leaf_nodes=None,\n",
       "            min_impurity_decrease=0.0, min_impurity_split=None,\n",
       "            min_samples_leaf=1, min_samples_split=2,\n",
       "            min_weight_fraction_leaf=0.0, n_estimators=20, n_jobs=1,\n",
       "            oob_score=False, random_state=42, verbose=0, warm_start=False)"
      ]
     },
     "execution_count": 42,
     "metadata": {},
     "output_type": "execute_result"
    }
   ],
   "source": [
    "X,Y = clean_overall_df(overall_df)\n",
    "\n",
    "#Only keep inforamtion in the X dataframe that refers to the user.\n",
    "X = X.iloc[:,10:]\n",
    "X.head()\n",
    "\n",
    "X_train, X_test, y_train, y_test = train_test_split(X,Y,test_size=.2,random_state=21)\n",
    "\n",
    "#Feature Scaling\n",
    "\n",
    "scaler = StandardScaler()\n",
    "X_train=scaler.fit_transform(X_train)\n",
    "X_test = scaler.fit_transform(X_test)\n",
    "\n",
    "#Instansiate Classifier\n",
    "clf = RandomForestClassifier(n_estimators=20,criterion='entropy',random_state=42)\n",
    "\n",
    "\n",
    "#Train Classifier\n",
    "clf.fit(X_train,y_train)\n",
    "\n",
    "\n",
    "\n"
   ]
  },
  {
   "cell_type": "code",
   "execution_count": 43,
   "metadata": {},
   "outputs": [
    {
     "name": "stdout",
     "output_type": "stream",
     "text": [
      "Model accuracy: 0.0656\n"
     ]
    }
   ],
   "source": [
    "y_pred = clf.predict(X_test)\n",
    "\n",
    "print('Model accuracy: {0:0.4f}'.format(accuracy_score(y_test,y_pred)))"
   ]
  },
  {
   "cell_type": "code",
   "execution_count": 44,
   "metadata": {},
   "outputs": [
    {
     "name": "stdout",
     "output_type": "stream",
     "text": [
      "             precision    recall  f1-score   support\n",
      "\n",
      "    Offer 1       0.03      0.02      0.02       487\n",
      "   Offer 10       0.03      0.03      0.03       554\n",
      "    Offer 4       0.05      0.05      0.05       737\n",
      "    Offer 5       0.12      0.12      0.12       909\n",
      "    Offer 6       0.01      0.01      0.01       285\n",
      "    Offer 7       0.11      0.12      0.11       864\n",
      "    Offer 8       0.04      0.04      0.04       485\n",
      "    Offer 9       0.04      0.04      0.04       571\n",
      "\n",
      "avg / total       0.06      0.07      0.06      4892\n",
      "\n"
     ]
    }
   ],
   "source": [
    "print(classification_report(y_test,y_pred))"
   ]
  },
  {
   "cell_type": "code",
   "execution_count": 45,
   "metadata": {},
   "outputs": [
    {
     "data": {
      "image/png": "[encoded data removed]",
      "text/plain": [
       "<matplotlib.figure.Figure at 0x7fb3cb972b38>"
      ]
     },
     "metadata": {
      "needs_background": "light"
     },
     "output_type": "display_data"
    }
   ],
   "source": [
    "sns.heatmap(confusion_matrix(y_test,y_pred),annot=True);\n",
    "plt.xlabel(\"Predicted\")\n",
    "plt.ylabel(\"Actual\");\n"
   ]
  },
  {
   "cell_type": "markdown",
   "metadata": {},
   "source": [
    "## Predict whether a customer offer combination will be successful"
   ]
  },
  {
   "cell_type": "markdown",
   "metadata": {},
   "source": [
    "Here we are now going to predict whether a user will complete an offer based on variables from the user and on the offer.\n",
    "\n",
    "I will be using Logistic Regression, SVM, LDA and Adaboost to try and predict whether a customer receiving an offer will be successful.\n",
    "\n",
    "To evaluate these models i will be using the model accuracy, the f1 score and the AUC rating. As i care equally about how the model classifies both classes i will place more of a preference on the accuracy. However, if i cared more about incorrectly classified predictions i would have chosen to focus on the f1 score. To visualize the performance of the models i will use Confusion matrixs and AUC curves.\n"
   ]
  },
  {
   "cell_type": "markdown",
   "metadata": {},
   "source": [
    "## Logistic Regression"
   ]
  },
  {
   "cell_type": "code",
   "execution_count": 46,
   "metadata": {},
   "outputs": [
    {
     "data": {
      "image/png": "[encoded data removed]",
      "text/plain": [
       "<matplotlib.figure.Figure at 0x7fb3cb9cb9b0>"
      ]
     },
     "metadata": {
      "needs_background": "light"
     },
     "output_type": "display_data"
    }
   ],
   "source": [
    "sns.countplot(overall_df['successful offer']);"
   ]
  },
  {
   "cell_type": "markdown",
   "metadata": {},
   "source": [
    "As you can see there is a class inbalance which will effect the accuracy of the classifier. We will balance the classes by random over-sampling. So we will randomly samply datapoints from the successful offers with replacement untill we meet the number of datapoints we have for unsuccessful offers."
   ]
  },
  {
   "cell_type": "code",
   "execution_count": 47,
   "metadata": {},
   "outputs": [],
   "source": [
    "df_class1 = overall_df.loc[overall_df['successful offer']==1]"
   ]
  },
  {
   "cell_type": "code",
   "execution_count": 48,
   "metadata": {},
   "outputs": [],
   "source": [
    "count_class0,count_class1 = overall_df['successful offer'].value_counts()"
   ]
  },
  {
   "cell_type": "code",
   "execution_count": 49,
   "metadata": {},
   "outputs": [],
   "source": [
    "df_class1_over = df_class1.sample(count_class0,replace=True)\n",
    "\n",
    "df_class_0 = overall_df.loc[overall_df['successful offer'] == 0]\n",
    "\n",
    "over_df = pd.concat([df_class1_over,df_class_0],axis=0)\n",
    "\n",
    "#over_df is now the dateframe with balanced outcomes.\n",
    "over_df.drop('gender',axis=1,inplace=True)"
   ]
  },
  {
   "cell_type": "markdown",
   "metadata": {},
   "source": [
    "### Data Preparation\n",
    "\n",
    "Now the classes are balanced we now need to impute missing values. There are missing values in the agea and income columns. From our previous analysis there is a slight right skew in their distributions so i will inpute the missing values with the median for their respective columns.\n",
    "\n",
    "During the initial cleaning i have already encoded the catergorical variables like gender etc.\n",
    "\n",
    "A key assumption for Logistic Regression is that there is little or no multicolinearlity between independent variables.\n",
    "\n",
    "In regards to outliers from my research i have read that Logistic Regression is robust in regards to outliers due to an inverse logistic loss function.\n",
    "\n",
    "To process the data we will use MinMaxScaler.\n",
    "\n"
   ]
  },
  {
   "cell_type": "code",
   "execution_count": 78,
   "metadata": {},
   "outputs": [],
   "source": [
    "over_df.isnull().sum()\n",
    "\n",
    "#Impute missing values with median value for the column. I have chosen the median because both age and income have\n",
    "#a right skew in their distributions.\n",
    "for col in ['age','income']:\n",
    "    over_df[col] = over_df[col].fillna(over_df[col].median())\n",
    "    "
   ]
  },
  {
   "cell_type": "code",
   "execution_count": 79,
   "metadata": {},
   "outputs": [
    {
     "data": {
      "image/png": "[encoded data removed]",
      "text/plain": [
       "<matplotlib.figure.Figure at 0x7fb3d20ebbe0>"
      ]
     },
     "metadata": {
      "needs_background": "light"
     },
     "output_type": "display_data"
    }
   ],
   "source": [
    "sns.countplot(over_df['successful offer']);"
   ]
  },
  {
   "cell_type": "markdown",
   "metadata": {},
   "source": [
    "We have now rebalanced the classes via over sampling and we can now proceed to implement a classifier. But first i need to handle the offer id as it still categorical."
   ]
  },
  {
   "cell_type": "code",
   "execution_count": 98,
   "metadata": {},
   "outputs": [
    {
     "data": {
      "text/plain": [
       "Index(['difficulty', 'duration', 'reward', 'email', 'mobile', 'social', 'web',\n",
       "       'offer_type-bogo', 'offer_type-discount', 'offer_type-informational',\n",
       "       'age', 'became_member_on', 'income', 'gender-F', 'gender-M', 'gender-O',\n",
       "       'Offer 1', 'Offer 10', 'Offer 2', 'Offer 3', 'Offer 4', 'Offer 5',\n",
       "       'Offer 6', 'Offer 7', 'Offer 8', 'Offer 9'],\n",
       "      dtype='object')"
      ]
     },
     "execution_count": 98,
     "metadata": {},
     "output_type": "execute_result"
    }
   ],
   "source": [
    "X = over_df.iloc[:,3:]\n",
    "y = over_df.iloc[:,2]\n",
    "\n",
    "X = pd.concat([X, over_df['offer_id']],axis=1)\n",
    "\n",
    "def encode_offer_id(X):\n",
    "    \n",
    "    '''\n",
    "    Fuction to encode offer id into dummy columns.\n",
    "    \n",
    "    Input - X dataframe with offer_id column present\n",
    "    \n",
    "    Output - X dataframe with encoded columns for offer id\n",
    "    \n",
    "    '''\n",
    "    \n",
    "    dummies = pd.get_dummies(X['offer_id'])\n",
    "    \n",
    "    new = pd.concat([X.drop('offer_id',axis=1), dummies],axis=1)\n",
    "    \n",
    "    \n",
    "    return new\n",
    "\n",
    "X = encode_offer_id(X)\n",
    "\n",
    "X.columns"
   ]
  },
  {
   "cell_type": "code",
   "execution_count": 81,
   "metadata": {},
   "outputs": [
    {
     "data": {
      "image/png": "[encoded data removed]",
      "text/plain": [
       "<matplotlib.figure.Figure at 0x7fb3cbab9320>"
      ]
     },
     "metadata": {
      "needs_background": "light"
     },
     "output_type": "display_data"
    }
   ],
   "source": [
    "plt.figure(figsize=(10,10))\n",
    "sns.heatmap(X.corr(),square=True, cmap='cubehelix');"
   ]
  },
  {
   "cell_type": "markdown",
   "metadata": {},
   "source": [
    "As Logistic Regression assumes little or no multicolinearity i am going to drop the email feature as it appears to be strongly correlated with every feature."
   ]
  },
  {
   "cell_type": "code",
   "execution_count": 102,
   "metadata": {},
   "outputs": [],
   "source": [
    "\n",
    "X = X.drop(['email'],axis=1)"
   ]
  },
  {
   "cell_type": "code",
   "execution_count": 103,
   "metadata": {},
   "outputs": [],
   "source": [
    "\n",
    "X_train, X_test, y_train, y_test = train_test_split(X,y,test_size=.2, random_state = 42)\n",
    "\n",
    "scaler = MinMaxScaler()\n",
    "\n",
    "X_train = scaler.fit_transform(X_train)\n",
    "\n",
    "X_test = scaler.fit_transform(X_test)\n"
   ]
  },
  {
   "cell_type": "code",
   "execution_count": 104,
   "metadata": {},
   "outputs": [],
   "source": [
    "model = LogisticRegression(solver='liblinear',random_state=42)"
   ]
  },
  {
   "cell_type": "code",
   "execution_count": 105,
   "metadata": {},
   "outputs": [
    {
     "data": {
      "text/plain": [
       "LogisticRegression(C=1.0, class_weight=None, dual=False, fit_intercept=True,\n",
       "          intercept_scaling=1, max_iter=100, multi_class='ovr', n_jobs=1,\n",
       "          penalty='l2', random_state=42, solver='liblinear', tol=0.0001,\n",
       "          verbose=0, warm_start=False)"
      ]
     },
     "execution_count": 105,
     "metadata": {},
     "output_type": "execute_result"
    }
   ],
   "source": [
    "model.fit(X_train,y_train)"
   ]
  },
  {
   "cell_type": "code",
   "execution_count": 106,
   "metadata": {},
   "outputs": [],
   "source": [
    "log_pred = model.predict(X_test)"
   ]
  },
  {
   "cell_type": "code",
   "execution_count": 107,
   "metadata": {},
   "outputs": [
    {
     "name": "stdout",
     "output_type": "stream",
     "text": [
      "Logistic Regression Accuracy: 0.76\n"
     ]
    }
   ],
   "source": [
    "log_accuracy = accuracy_score(y_test,log_pred)\n",
    "\n",
    "print(\"Logistic Regression Accuracy: %.2f\" % accuracy_score(y_test, log_pred))"
   ]
  },
  {
   "cell_type": "code",
   "execution_count": 108,
   "metadata": {},
   "outputs": [
    {
     "data": {
      "image/png": "[encoded data removed]",
      "text/plain": [
       "<matplotlib.figure.Figure at 0x7fb3d2121fd0>"
      ]
     },
     "metadata": {
      "needs_background": "light"
     },
     "output_type": "display_data"
    }
   ],
   "source": [
    "sns.heatmap(confusion_matrix(y_test,log_pred),annot=True,fmt='d')\n",
    "plt.title('Logisitic Regression Confusion Matrix')\n",
    "plt.ylabel(\"Actual\")\n",
    "plt.xlabel(\"Predicted\");"
   ]
  },
  {
   "cell_type": "code",
   "execution_count": 109,
   "metadata": {},
   "outputs": [
    {
     "name": "stdout",
     "output_type": "stream",
     "text": [
      "Logisitic Regression F1 Score: 0.773\n"
     ]
    }
   ],
   "source": [
    "log_f1_score = f1_score(y_test,log_pred)\n",
    "\n",
    "print('Logisitic Regression F1 Score: %.3f' % log_f1_score)"
   ]
  },
  {
   "cell_type": "markdown",
   "metadata": {},
   "source": [
    "The logistic regression classifier gave an accuracy of 76% and we achieved an f1 score of 0.773. As this is a binary classifcation i will place more weight on the f1 score as the f1 score is the weighted harmonic mean of recall and precision.\n",
    "\n",
    "Now i have just used the standard parameters I will now look at tuning the parameters with GridSeacrchCV"
   ]
  },
  {
   "cell_type": "code",
   "execution_count": 110,
   "metadata": {},
   "outputs": [],
   "source": [
    "parameters = {'penalty': ['l1','l2'], 'C': [1,10,100,1000]}\n",
    "\n",
    "grid_log = GridSearchCV(LogisticRegression(), parameters, verbose=3, n_jobs=-1,cv=3)"
   ]
  },
  {
   "cell_type": "code",
   "execution_count": 111,
   "metadata": {},
   "outputs": [
    {
     "name": "stdout",
     "output_type": "stream",
     "text": [
      "Fitting 3 folds for each of 8 candidates, totalling 24 fits\n",
      "[CV] C=1, penalty=l1 .................................................\n",
      "[CV] ........................ C=1, penalty=l1, score=0.762411 -  34.9s\n",
      "[CV] C=1, penalty=l1 .................................................\n"
     ]
    },
    {
     "name": "stderr",
     "output_type": "stream",
     "text": [
      "[Parallel(n_jobs=-1)]: Done   1 out of   1 | elapsed:   34.9s remaining:    0.0s\n"
     ]
    },
    {
     "name": "stdout",
     "output_type": "stream",
     "text": [
      "[CV] ........................ C=1, penalty=l1, score=0.762073 -  36.8s\n",
      "[CV] C=1, penalty=l1 .................................................\n"
     ]
    },
    {
     "name": "stderr",
     "output_type": "stream",
     "text": [
      "[Parallel(n_jobs=-1)]: Done   2 out of   2 | elapsed:  1.2min remaining:    0.0s\n"
     ]
    },
    {
     "name": "stdout",
     "output_type": "stream",
     "text": [
      "[CV] ........................ C=1, penalty=l1, score=0.762749 -  33.4s\n",
      "[CV] C=1, penalty=l2 .................................................\n",
      "[CV] ........................ C=1, penalty=l2, score=0.762362 -   0.4s\n",
      "[CV] C=1, penalty=l2 .................................................\n",
      "[CV] ........................ C=1, penalty=l2, score=0.762121 -   0.4s\n",
      "[CV] C=1, penalty=l2 .................................................\n",
      "[CV] ........................ C=1, penalty=l2, score=0.762652 -   0.4s\n",
      "[CV] C=10, penalty=l1 ................................................\n",
      "[CV] ....................... C=10, penalty=l1, score=0.762459 -   0.4s\n",
      "[CV] C=10, penalty=l1 ................................................\n",
      "[CV] ....................... C=10, penalty=l1, score=0.761928 -   0.4s\n",
      "[CV] C=10, penalty=l1 ................................................\n",
      "[CV] ....................... C=10, penalty=l1, score=0.762894 -   0.4s\n",
      "[CV] C=10, penalty=l2 ................................................\n",
      "[CV] ....................... C=10, penalty=l2, score=0.762459 -   0.5s\n",
      "[CV] C=10, penalty=l2 ................................................\n",
      "[CV] ....................... C=10, penalty=l2, score=0.761976 -   0.5s\n",
      "[CV] C=10, penalty=l2 ................................................\n",
      "[CV] ....................... C=10, penalty=l2, score=0.762894 -   0.4s\n",
      "[CV] C=100, penalty=l1 ...............................................\n",
      "[CV] ...................... C=100, penalty=l1, score=0.762459 -   0.3s\n",
      "[CV] C=100, penalty=l1 ...............................................\n",
      "[CV] ...................... C=100, penalty=l1, score=0.761928 -   0.3s\n",
      "[CV] C=100, penalty=l1 ...............................................\n",
      "[CV] ...................... C=100, penalty=l1, score=0.762894 -   0.3s\n",
      "[CV] C=100, penalty=l2 ...............................................\n",
      "[CV] ...................... C=100, penalty=l2, score=0.762507 -   0.5s\n",
      "[CV] C=100, penalty=l2 ...............................................\n",
      "[CV] ...................... C=100, penalty=l2, score=0.761928 -   0.5s\n",
      "[CV] C=100, penalty=l2 ...............................................\n",
      "[CV] ...................... C=100, penalty=l2, score=0.762894 -   0.5s\n",
      "[CV] C=1000, penalty=l1 ..............................................\n",
      "[CV] ..................... C=1000, penalty=l1, score=0.762459 -   0.4s\n",
      "[CV] C=1000, penalty=l1 ..............................................\n",
      "[CV] ..................... C=1000, penalty=l1, score=0.761928 -   0.4s\n",
      "[CV] C=1000, penalty=l1 ..............................................\n",
      "[CV] ..................... C=1000, penalty=l1, score=0.762894 -   0.3s\n",
      "[CV] C=1000, penalty=l2 ..............................................\n",
      "[CV] ..................... C=1000, penalty=l2, score=0.762507 -   0.6s\n",
      "[CV] C=1000, penalty=l2 ..............................................\n",
      "[CV] ..................... C=1000, penalty=l2, score=0.761879 -   0.5s\n",
      "[CV] C=1000, penalty=l2 ..............................................\n",
      "[CV] ..................... C=1000, penalty=l2, score=0.762894 -   0.5s\n"
     ]
    },
    {
     "name": "stderr",
     "output_type": "stream",
     "text": [
      "[Parallel(n_jobs=-1)]: Done  24 out of  24 | elapsed:  1.9min finished\n"
     ]
    },
    {
     "data": {
      "text/plain": [
       "GridSearchCV(cv=3, error_score='raise',\n",
       "       estimator=LogisticRegression(C=1.0, class_weight=None, dual=False, fit_intercept=True,\n",
       "          intercept_scaling=1, max_iter=100, multi_class='ovr', n_jobs=1,\n",
       "          penalty='l2', random_state=None, solver='liblinear', tol=0.0001,\n",
       "          verbose=0, warm_start=False),\n",
       "       fit_params={}, iid=True, n_jobs=-1,\n",
       "       param_grid={'penalty': ['l1', 'l2'], 'C': [1, 10, 100, 1000]},\n",
       "       pre_dispatch='2*n_jobs', refit=True, scoring=None, verbose=3)"
      ]
     },
     "execution_count": 111,
     "metadata": {},
     "output_type": "execute_result"
    }
   ],
   "source": [
    "grid_log.fit(X_train,y_train)"
   ]
  },
  {
   "cell_type": "code",
   "execution_count": 112,
   "metadata": {},
   "outputs": [
    {
     "data": {
      "text/plain": [
       "{'C': 10, 'penalty': 'l2'}"
      ]
     },
     "execution_count": 112,
     "metadata": {},
     "output_type": "execute_result"
    }
   ],
   "source": [
    "grid_log.best_params_"
   ]
  },
  {
   "cell_type": "code",
   "execution_count": 113,
   "metadata": {},
   "outputs": [],
   "source": [
    "log2_pred = grid_log.predict(X_test)"
   ]
  },
  {
   "cell_type": "code",
   "execution_count": 114,
   "metadata": {},
   "outputs": [],
   "source": [
    "log2_accuracy = accuracy_score(y_test,log2_pred)\n",
    "log2_f1 = f1_score(y_test,log2_pred)"
   ]
  },
  {
   "cell_type": "code",
   "execution_count": 115,
   "metadata": {},
   "outputs": [
    {
     "name": "stdout",
     "output_type": "stream",
     "text": [
      "Tuned Logistic Regression accuracy: 0.758\n",
      "Tuned Logistic Regression F1 score: 0.773\n"
     ]
    }
   ],
   "source": [
    "print('Tuned Logistic Regression accuracy: %.3f' % log2_accuracy)\n",
    "print('Tuned Logistic Regression F1 score: %.3f' % log2_f1)"
   ]
  },
  {
   "cell_type": "markdown",
   "metadata": {},
   "source": [
    "Our original Logistic Regresion model achieved the exact same f1 score but achieved a slightly higher accuracy. So using GridSearch our model did not improve.\n",
    "\n",
    "Typically Logistic Regression requires large samples sizes for accurate results."
   ]
  },
  {
   "cell_type": "markdown",
   "metadata": {},
   "source": [
    "## Support Vector Machines\n",
    "\n",
    "For SVM we need to further process the data. Its important that the data is scaled to avoid difficulties in the kernel calculation. \n",
    "\n",
    "SVM's are great for non linear classification problems.\n",
    "\n",
    "As using GridSearch will take too long using SVM i will change the kernel and the regularization parameter C to try and optimize the classifier."
   ]
  },
  {
   "cell_type": "code",
   "execution_count": 134,
   "metadata": {},
   "outputs": [],
   "source": [
    "X_train, X_test, y_train, y_test = train_test_split(X,y,random_state=42, test_size=.2)\n",
    "\n",
    "#Feature scaling\n",
    "scaler = StandardScaler()\n",
    "\n",
    "X_train = preprocessing.scale(X_train)\n",
    "X_test = preprocessing.scale(X_test)\n"
   ]
  },
  {
   "cell_type": "markdown",
   "metadata": {},
   "source": [
    "To begin with i will use the Linear kernel and the default parameter for C, which is 1."
   ]
  },
  {
   "cell_type": "code",
   "execution_count": 66,
   "metadata": {},
   "outputs": [],
   "source": [
    "#Instantiate classfier\n",
    "\n",
    "svc = SVC(kernel='linear')\n",
    "\n",
    "svc.fit(X_train,y_train)\n",
    "\n",
    "svc_y_pred = svc.predict(X_test)\n",
    "\n",
    "svc_accuracy = accuracy_score(y_test,svc_y_pred)\n",
    "svc_f1 = f1_score(y_test,svc_y_pred)\n"
   ]
  },
  {
   "cell_type": "code",
   "execution_count": 67,
   "metadata": {},
   "outputs": [
    {
     "name": "stdout",
     "output_type": "stream",
     "text": [
      "SVC Model Accuracy: 0.735\n",
      "SVC F1 Score: 0.773\n"
     ]
    }
   ],
   "source": [
    "print('SVC Model Accuracy: %.3f' % svc_accuracy)\n",
    "print('SVC F1 Score: %.3f' % svc_f1)"
   ]
  },
  {
   "cell_type": "code",
   "execution_count": 68,
   "metadata": {},
   "outputs": [
    {
     "data": {
      "image/png": "[encoded data removed]",
      "text/plain": [
       "<matplotlib.figure.Figure at 0x7fbb687520f0>"
      ]
     },
     "metadata": {
      "needs_background": "light"
     },
     "output_type": "display_data"
    }
   ],
   "source": [
    "sns.heatmap(confusion_matrix(y_test,svc_y_pred),annot=True,fmt='d');\n",
    "plt.ylabel(\"Actual\")\n",
    "plt.xlabel(\"Predicted\");"
   ]
  },
  {
   "cell_type": "code",
   "execution_count": 69,
   "metadata": {},
   "outputs": [
    {
     "name": "stdout",
     "output_type": "stream",
     "text": [
      "             precision    recall  f1-score   support\n",
      "\n",
      "        0.0       0.85      0.57      0.68      7733\n",
      "        1.0       0.68      0.90      0.77      7799\n",
      "\n",
      "avg / total       0.76      0.74      0.73     15532\n",
      "\n"
     ]
    }
   ],
   "source": [
    "print(classification_report(y_test,svc_y_pred))"
   ]
  },
  {
   "cell_type": "markdown",
   "metadata": {},
   "source": [
    "As we have used a Linear Kernel we can view the coefficients the model has given each variable"
   ]
  },
  {
   "cell_type": "code",
   "execution_count": 70,
   "metadata": {},
   "outputs": [
    {
     "data": {
      "image/png": "[encoded data removed]",
      "text/plain": [
       "<matplotlib.figure.Figure at 0x7fbb68823080>"
      ]
     },
     "metadata": {
      "needs_background": "light"
     },
     "output_type": "display_data"
    }
   ],
   "source": [
    "#Create a plot of the coefficients for a given feature.\n",
    "\n",
    "feature_names = list(X.columns)\n",
    "coefs = list(svc.coef_[0])\n",
    "\n",
    "plt.figure(figsize=(15,8))\n",
    "plt.barh(feature_names,coefs)\n",
    "plt.title('Feature effects on Offer Success')\n",
    "plt.xlabel('Coefficients')\n",
    "plt.ylabel('Feature');\n",
    "\n"
   ]
  },
  {
   "cell_type": "markdown",
   "metadata": {},
   "source": [
    "Now i will change the kernel function to Radial Basic Function.\n"
   ]
  },
  {
   "cell_type": "code",
   "execution_count": 71,
   "metadata": {},
   "outputs": [
    {
     "data": {
      "text/plain": [
       "SVC(C=1, cache_size=200, class_weight=None, coef0=0.0,\n",
       "  decision_function_shape='ovr', degree=3, gamma=1, kernel='rbf',\n",
       "  max_iter=-1, probability=False, random_state=None, shrinking=True,\n",
       "  tol=0.001, verbose=False)"
      ]
     },
     "execution_count": 71,
     "metadata": {},
     "output_type": "execute_result"
    }
   ],
   "source": [
    "svc_model = SVC(C=1,gamma=1,kernel='rbf')\n",
    "\n",
    "svc_model.fit(X_train,y_train)\n",
    "\n",
    "\n"
   ]
  },
  {
   "cell_type": "code",
   "execution_count": 72,
   "metadata": {},
   "outputs": [],
   "source": [
    "y_pred_svc_2 = svc_model.predict(X_test)\n",
    "svc2_accuracy = accuracy_score(y_test,y_pred_svc_2)\n",
    "svc2_f1 = f1_score(y_test,y_pred_svc_2)"
   ]
  },
  {
   "cell_type": "code",
   "execution_count": 73,
   "metadata": {},
   "outputs": [
    {
     "name": "stdout",
     "output_type": "stream",
     "text": [
      "Accuracy for SVM with RBF Kernel: 0.783\n",
      "F1 score for SVM with RBF Kernel: 0.796\n"
     ]
    }
   ],
   "source": [
    "print('Accuracy for SVM with RBF Kernel: %.3f' % svc2_accuracy)\n",
    "print('F1 score for SVM with RBF Kernel: %.3f' % svc2_f1)"
   ]
  },
  {
   "cell_type": "code",
   "execution_count": 74,
   "metadata": {},
   "outputs": [
    {
     "name": "stdout",
     "output_type": "stream",
     "text": [
      "             precision    recall  f1-score   support\n",
      "\n",
      "        0.0       0.82      0.72      0.77      7733\n",
      "        1.0       0.75      0.84      0.80      7799\n",
      "\n",
      "avg / total       0.79      0.78      0.78     15532\n",
      "\n"
     ]
    }
   ],
   "source": [
    "print(classification_report(y_test,y_pred_svc_2))"
   ]
  },
  {
   "cell_type": "code",
   "execution_count": 75,
   "metadata": {},
   "outputs": [
    {
     "data": {
      "image/png": "[encoded data removed]",
      "text/plain": [
       "<matplotlib.figure.Figure at 0x7fbb6ee256a0>"
      ]
     },
     "metadata": {
      "needs_background": "light"
     },
     "output_type": "display_data"
    }
   ],
   "source": [
    "svc_fpr, svc_tpr, svc_thresholds = roc_curve(y_test,y_pred_svc_2)\n",
    "\n",
    "sns.heatmap(confusion_matrix(y_test,y_pred_svc_2),annot=True,fmt='d')\n",
    "plt.ylabel(\"Actual\")\n",
    "plt.xlabel(\"Predicted\")\n",
    "plt.title(\"Confusion Matrix for SVM RBF\");"
   ]
  },
  {
   "cell_type": "code",
   "execution_count": 76,
   "metadata": {},
   "outputs": [
    {
     "data": {
      "text/plain": [
       "0.78302722182166917"
      ]
     },
     "execution_count": 76,
     "metadata": {},
     "output_type": "execute_result"
    }
   ],
   "source": [
    "#Area under curve\n",
    "roc_auc = auc(svc_fpr,svc_tpr)\n",
    "roc_auc"
   ]
  },
  {
   "cell_type": "code",
   "execution_count": 77,
   "metadata": {},
   "outputs": [
    {
     "data": {
      "image/png": "[encoded data removed]",
      "text/plain": [
       "<matplotlib.figure.Figure at 0x7fbb6ee5f400>"
      ]
     },
     "metadata": {
      "needs_background": "light"
     },
     "output_type": "display_data"
    }
   ],
   "source": [
    "#Plot the auc \n",
    "plt.figure(figsize=(5,5))\n",
    "plt.title('Receiver Operating Characteristic')\n",
    "plt.plot(svc_fpr,svc_tpr, color='red',label = 'AUC = %0.2f' % roc_auc)\n",
    "plt.legend(loc = 'lower right')\n",
    "plt.plot([0, 1], [0, 1],linestyle='--')\n",
    "plt.axis('tight')\n",
    "plt.ylabel('True Positive Rate')\n",
    "plt.xlabel('False Positive Rate');"
   ]
  },
  {
   "cell_type": "markdown",
   "metadata": {},
   "source": [
    "An ideal AUC score is 1 so a score of 0.78 is not too bad, it shows that the SVC classifier is somewhat accurate in distinguising successful and unsucessful offers. After changing a few of the parameters the model achieved an accuracy of 77.8% with an F1 Score of 0.79. \n",
    "\n",
    "The Radial Basic Function kernel has performed better than the Linear Kernel. I will now change the C parameter to 100.\n",
    "\n"
   ]
  },
  {
   "cell_type": "code",
   "execution_count": null,
   "metadata": {},
   "outputs": [],
   "source": [
    "svc3 = SVC(C=100,gamma=1,kernel='rbf',cache_size=600)\n",
    "\n",
    "svc3.fit(X_train,y_train)\n",
    "\n",
    "svc3_y = svc3.predict(X_test)\n"
   ]
  },
  {
   "cell_type": "code",
   "execution_count": null,
   "metadata": {},
   "outputs": [],
   "source": [
    "svc3_accuracy = accuracy_score(y_test,svc3_y)\n",
    "svc3_f1_score = f1_score(y_test,svc3_y)\n",
    "\n",
    "\n",
    "print('SVC RBF Model with C = 100 Accuracy: %.3f' % svc3_accuracy)\n",
    "print('SVC RBF Model with C = 100 F1 Score: %.3f' % svc3_f1_score)"
   ]
  },
  {
   "cell_type": "code",
   "execution_count": 124,
   "metadata": {},
   "outputs": [
    {
     "ename": "NameError",
     "evalue": "name 'svc3_y' is not defined",
     "output_type": "error",
     "traceback": [
      "\u001b[0;31m---------------------------------------------------------------------------\u001b[0m",
      "\u001b[0;31mNameError\u001b[0m                                 Traceback (most recent call last)",
      "\u001b[0;32m<ipython-input-124-ce37d6bcd376>\u001b[0m in \u001b[0;36m<module>\u001b[0;34m()\u001b[0m\n\u001b[0;32m----> 1\u001b[0;31m \u001b[0msns\u001b[0m\u001b[0;34m.\u001b[0m\u001b[0mheatmap\u001b[0m\u001b[0;34m(\u001b[0m\u001b[0mconfusion_matrix\u001b[0m\u001b[0;34m(\u001b[0m\u001b[0my_test\u001b[0m\u001b[0;34m,\u001b[0m\u001b[0msvc3_y\u001b[0m\u001b[0;34m)\u001b[0m\u001b[0;34m,\u001b[0m\u001b[0mannot\u001b[0m\u001b[0;34m=\u001b[0m\u001b[0;32mTrue\u001b[0m\u001b[0;34m,\u001b[0m\u001b[0mfmt\u001b[0m\u001b[0;34m=\u001b[0m\u001b[0;34m'd'\u001b[0m\u001b[0;34m)\u001b[0m\u001b[0;34m;\u001b[0m\u001b[0;34m\u001b[0m\u001b[0m\n\u001b[0m\u001b[1;32m      2\u001b[0m \u001b[0mplt\u001b[0m\u001b[0;34m.\u001b[0m\u001b[0mtitle\u001b[0m\u001b[0;34m(\u001b[0m\u001b[0;34m'SVM RBF Kernel'\u001b[0m\u001b[0;34m)\u001b[0m\u001b[0;34m;\u001b[0m\u001b[0;34m\u001b[0m\u001b[0m\n",
      "\u001b[0;31mNameError\u001b[0m: name 'svc3_y' is not defined"
     ]
    }
   ],
   "source": [
    "sns.heatmap(confusion_matrix(y_test,svc3_y),annot=True,fmt='d');\n",
    "plt.title('SVM RBF Kernel');\n"
   ]
  },
  {
   "cell_type": "markdown",
   "metadata": {},
   "source": [
    "## Linear Discriminant Analysis\n",
    "\n",
    "We will now try to use Linear Discriminant Analysis to improve on our model accuracy. \n",
    "\n",
    "LDA is more sensity to outliers than the previous models. I have already examined the age of the user and removed outliers - i now need to look at income and days being a rewards member. I will use the tukey rule to remove any outliers.\n",
    "\n",
    "LDA assumes normal distribution for features so as a preprocessing step i will normalize the data points.\n"
   ]
  },
  {
   "cell_type": "code",
   "execution_count": 119,
   "metadata": {},
   "outputs": [],
   "source": [
    "def split_df(over_df):\n",
    "    '''\n",
    "    Function to split X, Y from dataframe and split into test and train datasets.\n",
    "    \n",
    "    Input - over_df - dataframe with classes balanced.\n",
    "    \n",
    "    Output - X_train, X_test, y_train, y_test\n",
    "    \n",
    "    '''\n",
    "    \n",
    "    for col in ['income','became_member_on']:\n",
    "        \n",
    "        Q1 = np.percentile(over_df[col],25)\n",
    "        \n",
    "        Q3 = np.percentile(over_df[col],75)\n",
    "        \n",
    "        IQR = Q3 - Q1\n",
    "        \n",
    "        #Outlier step\n",
    "        \n",
    "        step = IQR * 1.5\n",
    "        \n",
    "        \n",
    "        over_df = over_df[(over_df[col] > (Q1 - step)) & (over_df[col] < (Q3 + step))]\n",
    "    \n",
    "    X = over_df.iloc[:,3:]\n",
    "    \n",
    "   \n",
    "    y = over_df.iloc[:,2]\n",
    "    \n",
    "    X = pd.concat([X, over_df['offer_id']],axis=1)\n",
    "    \n",
    "    dummies = pd.get_dummies(X['offer_id'])\n",
    "    \n",
    "    X = pd.concat([X.drop('offer_id',axis=1), dummies],axis=1)\n",
    "    \n",
    "    \n",
    "    #Now i need to hand outliers in income and days of membership\n",
    "    \n",
    "   \n",
    "    \n",
    "    \n",
    "    \n",
    "    \n",
    " \n",
    "    \n",
    "    \n",
    "    \n",
    "    X_train, X_test,y_train,y_test = train_test_split(X,y,test_size=.2,random_state=42)\n",
    "    \n",
    "    return X_train, X_test, y_test, y_train\n",
    "\n",
    "\n",
    "X_train, X_test, y_test, y_train = split_df(over_df)\n",
    "\n",
    "X_train = normalize(X_train)\n",
    "X_test = normalize(X_test)\n"
   ]
  },
  {
   "cell_type": "code",
   "execution_count": 120,
   "metadata": {},
   "outputs": [],
   "source": [
    "lda = LinearDiscriminantAnalysis(solver='lsqr')\n",
    "\n",
    "lda.fit(X_train,y_train)\n",
    "y_pred = lda.predict(X_test)\n"
   ]
  },
  {
   "cell_type": "code",
   "execution_count": 121,
   "metadata": {},
   "outputs": [
    {
     "name": "stdout",
     "output_type": "stream",
     "text": [
      "LDA Model Accuracy: 0.765\n",
      "LDA Model F1 Accuracy: 0.781\n"
     ]
    }
   ],
   "source": [
    "y_pred = lda.predict(X_test)\n",
    "lda_accuracy = accuracy_score(y_test,y_pred)\n",
    "lda_f1 = f1_score(y_test,y_pred)\n",
    "\n",
    "print(\"LDA Model Accuracy: %.3f\" % lda_accuracy)\n",
    "print(\"LDA Model F1 Accuracy: %.3f\" % lda_f1)"
   ]
  },
  {
   "cell_type": "code",
   "execution_count": 122,
   "metadata": {},
   "outputs": [
    {
     "name": "stdout",
     "output_type": "stream",
     "text": [
      "             precision    recall  f1-score   support\n",
      "\n",
      "        0.0       0.82      0.68      0.75      7636\n",
      "        1.0       0.73      0.85      0.78      7517\n",
      "\n",
      "avg / total       0.77      0.76      0.76     15153\n",
      "\n"
     ]
    }
   ],
   "source": [
    "print(classification_report(y_test,y_pred))"
   ]
  },
  {
   "cell_type": "code",
   "execution_count": 123,
   "metadata": {},
   "outputs": [
    {
     "data": {
      "text/plain": [
       "Text(0.5,1,'LDA Confusion Matrix')"
      ]
     },
     "execution_count": 123,
     "metadata": {},
     "output_type": "execute_result"
    },
    {
     "data": {
      "image/png": "[encoded data removed]",
      "text/plain": [
       "<matplotlib.figure.Figure at 0x7fb3d211cf98>"
      ]
     },
     "metadata": {
      "needs_background": "light"
     },
     "output_type": "display_data"
    }
   ],
   "source": [
    "sns.heatmap(confusion_matrix(y_test,y_pred),annot=True,fmt='d')\n",
    "plt.xlabel(\"Predicted\")\n",
    "plt.ylabel(\"Actual\")\n",
    "plt.title('LDA Confusion Matrix')"
   ]
  },
  {
   "cell_type": "code",
   "execution_count": 87,
   "metadata": {},
   "outputs": [
    {
     "data": {
      "image/png": "[encoded data removed]",
      "text/plain": [
       "<matplotlib.figure.Figure at 0x7fbb6ef0f7f0>"
      ]
     },
     "metadata": {
      "needs_background": "light"
     },
     "output_type": "display_data"
    }
   ],
   "source": [
    "plt.figure(figsize=(15,8))\n",
    "coefs = lda.coef_[0]\n",
    "plt.barh(feature_names,coefs)\n",
    "plt.title(\"LDA Feature Coefficients\");\n",
    "\n"
   ]
  },
  {
   "cell_type": "code",
   "execution_count": 88,
   "metadata": {},
   "outputs": [],
   "source": [
    "lda_fpr,lda_tpr,lda_thresholds = roc_curve(y_test,y_pred)\n",
    "lda_auc = auc(lda_fpr,lda_tpr)"
   ]
  },
  {
   "cell_type": "markdown",
   "metadata": {},
   "source": [
    "The LDA model did not perform as well as the SVC model but performed better than the logisitic regression model."
   ]
  },
  {
   "cell_type": "markdown",
   "metadata": {},
   "source": [
    "## Adaboost Classifier\n",
    "\n",
    "\n",
    "Adaboost is a decision tree algorithm that does not require scaled data, however, it is sensitive to outliers so i will use the training dataset and test dataset where outliers have been removed."
   ]
  },
  {
   "cell_type": "code",
   "execution_count": 89,
   "metadata": {},
   "outputs": [],
   "source": [
    "parameters = {'n_estimators':[500, 1000, 1500, 2000], \n",
    "              'learning_rate':[0.05, 0.1, 0.15, 0.2]}"
   ]
  },
  {
   "cell_type": "code",
   "execution_count": 90,
   "metadata": {},
   "outputs": [
    {
     "name": "stdout",
     "output_type": "stream",
     "text": [
      "Fitting 3 folds for each of 16 candidates, totalling 48 fits\n",
      "[CV] learning_rate=0.05, n_estimators=500 ............................\n",
      "[CV] ... learning_rate=0.05, n_estimators=500, score=0.769372 -  18.5s\n",
      "[CV] learning_rate=0.05, n_estimators=500 ............................\n"
     ]
    },
    {
     "name": "stderr",
     "output_type": "stream",
     "text": [
      "[Parallel(n_jobs=-1)]: Done   1 out of   1 | elapsed:   18.5s remaining:    0.0s\n"
     ]
    },
    {
     "name": "stdout",
     "output_type": "stream",
     "text": [
      "[CV] ... learning_rate=0.05, n_estimators=500, score=0.771389 -  18.0s\n",
      "[CV] learning_rate=0.05, n_estimators=500 ............................\n"
     ]
    },
    {
     "name": "stderr",
     "output_type": "stream",
     "text": [
      "[Parallel(n_jobs=-1)]: Done   2 out of   2 | elapsed:   36.5s remaining:    0.0s\n"
     ]
    },
    {
     "name": "stdout",
     "output_type": "stream",
     "text": [
      "[CV] ... learning_rate=0.05, n_estimators=500, score=0.766837 -  18.1s\n",
      "[CV] learning_rate=0.05, n_estimators=1000 ...........................\n",
      "[CV] .. learning_rate=0.05, n_estimators=1000, score=0.774518 -  36.0s\n",
      "[CV] learning_rate=0.05, n_estimators=1000 ...........................\n",
      "[CV] .. learning_rate=0.05, n_estimators=1000, score=0.777327 -  36.4s\n",
      "[CV] learning_rate=0.05, n_estimators=1000 ...........................\n",
      "[CV] .. learning_rate=0.05, n_estimators=1000, score=0.772923 -  37.1s\n",
      "[CV] learning_rate=0.05, n_estimators=1500 ...........................\n",
      "[CV] .. learning_rate=0.05, n_estimators=1500, score=0.775012 -  54.7s\n",
      "[CV] learning_rate=0.05, n_estimators=1500 ...........................\n",
      "[CV] .. learning_rate=0.05, n_estimators=1500, score=0.778366 -  54.8s\n",
      "[CV] learning_rate=0.05, n_estimators=1500 ...........................\n",
      "[CV] .. learning_rate=0.05, n_estimators=1500, score=0.773071 -  54.7s\n",
      "[CV] learning_rate=0.05, n_estimators=2000 ...........................\n",
      "[CV] .. learning_rate=0.05, n_estimators=2000, score=0.774122 - 1.2min\n",
      "[CV] learning_rate=0.05, n_estimators=2000 ...........................\n",
      "[CV] .. learning_rate=0.05, n_estimators=2000, score=0.778613 - 1.2min\n",
      "[CV] learning_rate=0.05, n_estimators=2000 ...........................\n",
      "[CV] .. learning_rate=0.05, n_estimators=2000, score=0.773418 - 1.2min\n",
      "[CV] learning_rate=0.1, n_estimators=500 .............................\n",
      "[CV] .... learning_rate=0.1, n_estimators=500, score=0.774814 -  18.3s\n",
      "[CV] learning_rate=0.1, n_estimators=500 .............................\n",
      "[CV] .... learning_rate=0.1, n_estimators=500, score=0.777080 -  17.9s\n",
      "[CV] learning_rate=0.1, n_estimators=500 .............................\n",
      "[CV] .... learning_rate=0.1, n_estimators=500, score=0.772626 -  18.2s\n",
      "[CV] learning_rate=0.1, n_estimators=1000 ............................\n",
      "[CV] ... learning_rate=0.1, n_estimators=1000, score=0.774468 -  37.0s\n",
      "[CV] learning_rate=0.1, n_estimators=1000 ............................\n",
      "[CV] ... learning_rate=0.1, n_estimators=1000, score=0.778515 -  36.9s\n",
      "[CV] learning_rate=0.1, n_estimators=1000 ............................\n",
      "[CV] ... learning_rate=0.1, n_estimators=1000, score=0.772824 -  36.7s\n",
      "[CV] learning_rate=0.1, n_estimators=1500 ............................\n",
      "[CV] ... learning_rate=0.1, n_estimators=1500, score=0.775062 -  55.4s\n",
      "[CV] learning_rate=0.1, n_estimators=1500 ............................\n",
      "[CV] ... learning_rate=0.1, n_estimators=1500, score=0.778515 -  55.1s\n",
      "[CV] learning_rate=0.1, n_estimators=1500 ............................\n",
      "[CV] ... learning_rate=0.1, n_estimators=1500, score=0.772428 -  55.2s\n",
      "[CV] learning_rate=0.1, n_estimators=2000 ............................\n",
      "[CV] ... learning_rate=0.1, n_estimators=2000, score=0.774617 - 1.2min\n",
      "[CV] learning_rate=0.1, n_estimators=2000 ............................\n",
      "[CV] ... learning_rate=0.1, n_estimators=2000, score=0.778366 - 1.2min\n",
      "[CV] learning_rate=0.1, n_estimators=2000 ............................\n",
      "[CV] ... learning_rate=0.1, n_estimators=2000, score=0.772181 - 1.2min\n",
      "[CV] learning_rate=0.15, n_estimators=500 ............................\n",
      "[CV] ... learning_rate=0.15, n_estimators=500, score=0.774715 -  18.3s\n",
      "[CV] learning_rate=0.15, n_estimators=500 ............................\n",
      "[CV] ... learning_rate=0.15, n_estimators=500, score=0.778663 -  18.2s\n",
      "[CV] learning_rate=0.15, n_estimators=500 ............................\n",
      "[CV] ... learning_rate=0.15, n_estimators=500, score=0.773121 -  18.2s\n",
      "[CV] learning_rate=0.15, n_estimators=1000 ...........................\n",
      "[CV] .. learning_rate=0.15, n_estimators=1000, score=0.775260 -  36.7s\n",
      "[CV] learning_rate=0.15, n_estimators=1000 ...........................\n",
      "[CV] .. learning_rate=0.15, n_estimators=1000, score=0.778218 -  36.3s\n",
      "[CV] learning_rate=0.15, n_estimators=1000 ...........................\n",
      "[CV] .. learning_rate=0.15, n_estimators=1000, score=0.772329 -  36.4s\n",
      "[CV] learning_rate=0.15, n_estimators=1500 ...........................\n",
      "[CV] .. learning_rate=0.15, n_estimators=1500, score=0.775260 -  54.9s\n",
      "[CV] learning_rate=0.15, n_estimators=1500 ...........................\n",
      "[CV] .. learning_rate=0.15, n_estimators=1500, score=0.778416 -  54.2s\n",
      "[CV] learning_rate=0.15, n_estimators=1500 ...........................\n",
      "[CV] .. learning_rate=0.15, n_estimators=1500, score=0.772082 -  54.5s\n",
      "[CV] learning_rate=0.15, n_estimators=2000 ...........................\n",
      "[CV] .. learning_rate=0.15, n_estimators=2000, score=0.776447 - 1.2min\n",
      "[CV] learning_rate=0.15, n_estimators=2000 ...........................\n",
      "[CV] .. learning_rate=0.15, n_estimators=2000, score=0.778168 - 1.2min\n",
      "[CV] learning_rate=0.15, n_estimators=2000 ...........................\n",
      "[CV] .. learning_rate=0.15, n_estimators=2000, score=0.772873 - 1.2min\n",
      "[CV] learning_rate=0.2, n_estimators=500 .............................\n",
      "[CV] .... learning_rate=0.2, n_estimators=500, score=0.774913 -  18.5s\n",
      "[CV] learning_rate=0.2, n_estimators=500 .............................\n",
      "[CV] .... learning_rate=0.2, n_estimators=500, score=0.778069 -  18.1s\n",
      "[CV] learning_rate=0.2, n_estimators=500 .............................\n",
      "[CV] .... learning_rate=0.2, n_estimators=500, score=0.772824 -  18.1s\n",
      "[CV] learning_rate=0.2, n_estimators=1000 ............................\n",
      "[CV] ... learning_rate=0.2, n_estimators=1000, score=0.775111 -  36.0s\n",
      "[CV] learning_rate=0.2, n_estimators=1000 ............................\n",
      "[CV] ... learning_rate=0.2, n_estimators=1000, score=0.778811 -  36.3s\n",
      "[CV] learning_rate=0.2, n_estimators=1000 ............................\n",
      "[CV] ... learning_rate=0.2, n_estimators=1000, score=0.772280 -  35.9s\n",
      "[CV] learning_rate=0.2, n_estimators=1500 ............................\n",
      "[CV] ... learning_rate=0.2, n_estimators=1500, score=0.776299 -  54.2s\n",
      "[CV] learning_rate=0.2, n_estimators=1500 ............................\n",
      "[CV] ... learning_rate=0.2, n_estimators=1500, score=0.778465 -  53.8s\n",
      "[CV] learning_rate=0.2, n_estimators=1500 ............................\n",
      "[CV] ... learning_rate=0.2, n_estimators=1500, score=0.772923 -  54.0s\n",
      "[CV] learning_rate=0.2, n_estimators=2000 ............................\n",
      "[CV] ... learning_rate=0.2, n_estimators=2000, score=0.775854 - 1.2min\n",
      "[CV] learning_rate=0.2, n_estimators=2000 ............................\n",
      "[CV] ... learning_rate=0.2, n_estimators=2000, score=0.777723 - 1.2min\n",
      "[CV] learning_rate=0.2, n_estimators=2000 ............................\n",
      "[CV] ... learning_rate=0.2, n_estimators=2000, score=0.773566 - 1.2min\n"
     ]
    },
    {
     "name": "stderr",
     "output_type": "stream",
     "text": [
      "[Parallel(n_jobs=-1)]: Done  48 out of  48 | elapsed: 36.4min finished\n"
     ]
    },
    {
     "data": {
      "text/plain": [
       "GridSearchCV(cv=3, error_score='raise',\n",
       "       estimator=AdaBoostClassifier(algorithm='SAMME.R', base_estimator=None,\n",
       "          learning_rate=1.0, n_estimators=50, random_state=None),\n",
       "       fit_params={}, iid=True, n_jobs=-1,\n",
       "       param_grid={'n_estimators': [500, 1000, 1500, 2000], 'learning_rate': [0.05, 0.1, 0.15, 0.2]},\n",
       "       pre_dispatch='2*n_jobs', refit=True, scoring=None, verbose=3)"
      ]
     },
     "execution_count": 90,
     "metadata": {},
     "output_type": "execute_result"
    }
   ],
   "source": [
    "ada = AdaBoostClassifier()\n",
    "\n",
    "clf = GridSearchCV(ada,parameters,cv=3,verbose=3,n_jobs=-1)\n",
    "\n",
    "clf.fit(X_train,y_train)\n"
   ]
  },
  {
   "cell_type": "code",
   "execution_count": 91,
   "metadata": {},
   "outputs": [
    {
     "data": {
      "text/plain": [
       "{'learning_rate': 0.2, 'n_estimators': 1500}"
      ]
     },
     "execution_count": 91,
     "metadata": {},
     "output_type": "execute_result"
    }
   ],
   "source": [
    "clf.best_params_"
   ]
  },
  {
   "cell_type": "code",
   "execution_count": 101,
   "metadata": {},
   "outputs": [
    {
     "name": "stdout",
     "output_type": "stream",
     "text": [
      "ADA Model Accuracy: 0.777\n",
      "ADA Model F1 Accuracy: 0.789\n"
     ]
    }
   ],
   "source": [
    "ada_pred = clf.predict(X_test)\n",
    "ada_accuracy = accuracy_score(y_test,ada_pred)\n",
    "ada_f1 = f1_score(y_test, ada_pred)\n",
    "\n",
    "print(\"ADA Model Accuracy: %.3f\" % ada_accuracy)\n",
    "print(\"ADA Model F1 Accuracy: %.3f\" % ada_f1)\n"
   ]
  },
  {
   "cell_type": "code",
   "execution_count": 93,
   "metadata": {},
   "outputs": [
    {
     "data": {
      "image/png": "[encoded data removed]",
      "text/plain": [
       "<matplotlib.figure.Figure at 0x7fbb686be438>"
      ]
     },
     "metadata": {
      "needs_background": "light"
     },
     "output_type": "display_data"
    }
   ],
   "source": [
    "sns.heatmap(confusion_matrix(y_test,ada_pred),annot=True,fmt='d')\n",
    "plt.title(\"ADA Confusion Matrix\")\n",
    "plt.xlabel('Predicted')\n",
    "plt.ylabel('True');"
   ]
  },
  {
   "cell_type": "code",
   "execution_count": 95,
   "metadata": {},
   "outputs": [
    {
     "name": "stdout",
     "output_type": "stream",
     "text": [
      "             precision    recall  f1-score   support\n",
      "\n",
      "        0.0       0.81      0.72      0.76      7584\n",
      "        1.0       0.75      0.83      0.79      7573\n",
      "\n",
      "avg / total       0.78      0.78      0.78     15157\n",
      "\n"
     ]
    }
   ],
   "source": [
    "print(classification_report(y_test,ada_pred))"
   ]
  },
  {
   "cell_type": "code",
   "execution_count": 96,
   "metadata": {},
   "outputs": [],
   "source": [
    "ada_fpr,ada_tpr,ada_thresholds = roc_curve(y_test,ada_pred)\n",
    "ada_auc = auc(ada_fpr,ada_tpr)"
   ]
  },
  {
   "cell_type": "markdown",
   "metadata": {},
   "source": [
    "## Conclusion\n"
   ]
  },
  {
   "cell_type": "code",
   "execution_count": 98,
   "metadata": {},
   "outputs": [
    {
     "data": {
      "image/png": "[encoded data removed]",
      "text/plain": [
       "<matplotlib.figure.Figure at 0x7fbb6ee32cc0>"
      ]
     },
     "metadata": {
      "needs_background": "light"
     },
     "output_type": "display_data"
    }
   ],
   "source": [
    "#Plot the auc \n",
    "plt.figure(figsize=(5,5))\n",
    "plt.title('Receiver Operating Characteristic')\n",
    "plt.plot(svc_fpr,svc_tpr, color='red',label = 'AUC SVC = %0.2f' % roc_auc)\n",
    "plt.plot(lda_fpr,lda_tpr,color='green',label = 'AUC LDA = %0.2f' % lda_auc)\n",
    "plt.plot(ada_fpr,lda_tpr,color='blue',label='AUC ADA = %0.2f' % ada_auc)\n",
    "plt.legend(loc = 'lower right',frameon=False)\n",
    "plt.plot([0, 1], [0, 1],linestyle='--')\n",
    "plt.axis('tight')\n",
    "plt.ylabel('True Positive Rate')\n",
    "plt.xlabel('False Positive Rate');"
   ]
  },
  {
   "cell_type": "markdown",
   "metadata": {},
   "source": [
    "The SVM model with 'rbf' kernel produced the model with the highest accuracy, F1 score and AUC score. "
   ]
  },
  {
   "cell_type": "code",
   "execution_count": 161,
   "metadata": {},
   "outputs": [
    {
     "data": {
      "text/html": [
       "<div>\n",
       "<style scoped>\n",
       "    .dataframe tbody tr th:only-of-type {\n",
       "        vertical-align: middle;\n",
       "    }\n",
       "\n",
       "    .dataframe tbody tr th {\n",
       "        vertical-align: top;\n",
       "    }\n",
       "\n",
       "    .dataframe thead th {\n",
       "        text-align: right;\n",
       "    }\n",
       "</style>\n",
       "<table border=\"1\" class=\"dataframe\">\n",
       "  <thead>\n",
       "    <tr style=\"text-align: right;\">\n",
       "      <th></th>\n",
       "      <th>Accuracy</th>\n",
       "      <th>F1 Score</th>\n",
       "    </tr>\n",
       "    <tr>\n",
       "      <th>Model Names</th>\n",
       "      <th></th>\n",
       "      <th></th>\n",
       "    </tr>\n",
       "  </thead>\n",
       "  <tbody>\n",
       "    <tr>\n",
       "      <th>SVC RBF 2</th>\n",
       "      <td>0.785218</td>\n",
       "      <td>0.795713</td>\n",
       "    </tr>\n",
       "    <tr>\n",
       "      <th>SVC RBF 1</th>\n",
       "      <td>0.783286</td>\n",
       "      <td>0.796370</td>\n",
       "    </tr>\n",
       "    <tr>\n",
       "      <th>ADA</th>\n",
       "      <td>0.777133</td>\n",
       "      <td>0.788901</td>\n",
       "    </tr>\n",
       "    <tr>\n",
       "      <th>LDA</th>\n",
       "      <td>0.767830</td>\n",
       "      <td>0.783459</td>\n",
       "    </tr>\n",
       "    <tr>\n",
       "      <th>Logistic Regression 2</th>\n",
       "      <td>0.762297</td>\n",
       "      <td>0.777992</td>\n",
       "    </tr>\n",
       "    <tr>\n",
       "      <th>Logistic Regresson 1</th>\n",
       "      <td>0.762168</td>\n",
       "      <td>0.777871</td>\n",
       "    </tr>\n",
       "    <tr>\n",
       "      <th>SVC Linear</th>\n",
       "      <td>0.735321</td>\n",
       "      <td>0.773211</td>\n",
       "    </tr>\n",
       "  </tbody>\n",
       "</table>\n",
       "</div>"
      ],
      "text/plain": [
       "                       Accuracy  F1 Score\n",
       "Model Names                              \n",
       "SVC RBF 2              0.785218  0.795713\n",
       "SVC RBF 1              0.783286  0.796370\n",
       "ADA                    0.777133  0.788901\n",
       "LDA                    0.767830  0.783459\n",
       "Logistic Regression 2  0.762297  0.777992\n",
       "Logistic Regresson 1   0.762168  0.777871\n",
       "SVC Linear             0.735321  0.773211"
      ]
     },
     "execution_count": 161,
     "metadata": {},
     "output_type": "execute_result"
    }
   ],
   "source": [
    "accuracy = np.array([log_accuracy,log2_accuracy,svc_accuracy,svc2_accuracy,svc3_accuracy,lda_accuracy,ada_accuracy]).reshape(-1,1)\n",
    "f1_score = np.array([log_f1_score,log2_f1,svc_f1,svc2_f1,svc3_f1_score,lda_f1,ada_f1]).reshape(-1,1)\n",
    "\n",
    "metrics = pd.DataFrame(np.concatenate((accuracy,f1_score),axis=1),columns=['Accuracy','F1 Score'])\n",
    "\n",
    "model_names = np.array(['Logistic Regresson 1','Logistic Regression 2','SVC Linear','SVC RBF 1','SVC RBF 2','LDA','ADA']).reshape(-1,1)\n",
    "\n",
    "metrics = pd.concat([metrics,pd.DataFrame(model_names)],axis=1)\n",
    "\n",
    "metrics.columns = ['Accuracy','F1 Score','Model Names']\n",
    "\n",
    "metrics.set_index('Model Names').sort_values(by='Accuracy',ascending=False)\n"
   ]
  },
  {
   "cell_type": "code",
   "execution_count": 164,
   "metadata": {},
   "outputs": [
    {
     "data": {
      "image/png": "[encoded data removed]",
      "text/plain": [
       "<matplotlib.figure.Figure at 0x7fbb68686ef0>"
      ]
     },
     "metadata": {
      "needs_background": "light"
     },
     "output_type": "display_data"
    }
   ],
   "source": [
    "plt.barh(metrics['Model Names'],metrics['Accuracy']);\n",
    "plt.xlabel('Accuracy')\n",
    "plt.title('Accuracy by Model')\n",
    "plt.xlim([0,1])\n",
    "\n",
    "\n",
    "labels = ['%.2f' % x for x in metrics['Accuracy']]\n",
    "\n",
    "\n",
    "for i,v in enumerate(metrics['Accuracy']):\n",
    "    plt.gca().text(0.85, i - 0.1, labels[i], color='black', fontweight='bold')"
   ]
  }
 ],
 "metadata": {
  "kernelspec": {
   "display_name": "Python 3",
   "language": "python",
   "name": "python3"
  },
  "language_info": {
   "codemirror_mode": {
    "name": "ipython",
    "version": 3
   },
   "file_extension": ".py",
   "mimetype": "text/x-python",
   "name": "python",
   "nbconvert_exporter": "python",
   "pygments_lexer": "ipython3",
   "version": "3.6.3"
  }
 },
 "nbformat": 4,
 "nbformat_minor": 2
}
